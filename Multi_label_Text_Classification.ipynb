{
  "cells": [
    {
      "cell_type": "markdown",
      "metadata": {
        "id": "iAZas4wNhHZP"
      },
      "source": [
        "## importing libraries"
      ]
    },
    {
      "cell_type": "code",
      "execution_count": null,
      "metadata": {
        "colab": {
          "base_uri": "https://localhost:8080/"
        },
        "id": "tjG17wACNtHM",
        "outputId": "2291cca0-43cb-4ba1-ad55-f1a9ad9e00c0"
      },
      "outputs": [
        {
          "output_type": "stream",
          "name": "stdout",
          "text": [
            "rm: cannot remove 'preprocessing.py': No such file or directory\n",
            "rm: cannot remove 'utils.py': No such file or directory\n",
            "Cloning into '/content/preproc'...\n",
            "remote: Enumerating objects: 7, done.\u001b[K\n",
            "remote: Total 7 (delta 0), reused 0 (delta 0), pack-reused 7\u001b[K\n",
            "Unpacking objects: 100% (7/7), done.\n",
            "Looking in indexes: https://pypi.org/simple, https://us-python.pkg.dev/colab-wheels/public/simple/\n",
            "Collecting hazm\n",
            "  Downloading hazm-0.7.0-py3-none-any.whl (316 kB)\n",
            "\u001b[K     |████████████████████████████████| 316 kB 7.6 MB/s \n",
            "\u001b[?25hCollecting nltk==3.3\n",
            "  Downloading nltk-3.3.0.zip (1.4 MB)\n",
            "\u001b[K     |████████████████████████████████| 1.4 MB 55.1 MB/s \n",
            "\u001b[?25hCollecting libwapiti>=0.2.1\n",
            "  Downloading libwapiti-0.2.1.tar.gz (233 kB)\n",
            "\u001b[K     |████████████████████████████████| 233 kB 57.5 MB/s \n",
            "\u001b[?25hRequirement already satisfied: six in /usr/local/lib/python3.7/dist-packages (from nltk==3.3->hazm) (1.15.0)\n",
            "Building wheels for collected packages: nltk, libwapiti\n",
            "  Building wheel for nltk (setup.py) ... \u001b[?25l\u001b[?25hdone\n",
            "  Created wheel for nltk: filename=nltk-3.3-py3-none-any.whl size=1394484 sha256=3383415027bc9705a72aa980d4e35ba77b2af5bce6a66fb8414adcd6c40c9ba6\n",
            "  Stored in directory: /root/.cache/pip/wheels/9b/fd/0c/d92302c876e5de87ebd7fc0979d82edb93e2d8d768bf71fac4\n",
            "  Building wheel for libwapiti (setup.py) ... \u001b[?25l\u001b[?25hdone\n",
            "  Created wheel for libwapiti: filename=libwapiti-0.2.1-cp37-cp37m-linux_x86_64.whl size=154616 sha256=9580387759bbe8be75331b8b2b2ae37b8a70c6b1454d607e9f67c35c211ad675\n",
            "  Stored in directory: /root/.cache/pip/wheels/ab/b2/5b/0fe4b8f5c0e65341e8ea7bb3f4a6ebabfe8b1ac31322392dbf\n",
            "Successfully built nltk libwapiti\n",
            "Installing collected packages: nltk, libwapiti, hazm\n",
            "  Attempting uninstall: nltk\n",
            "    Found existing installation: nltk 3.7\n",
            "    Uninstalling nltk-3.7:\n",
            "      Successfully uninstalled nltk-3.7\n",
            "Successfully installed hazm-0.7.0 libwapiti-0.2.1 nltk-3.3\n",
            "Looking in indexes: https://pypi.org/simple, https://us-python.pkg.dev/colab-wheels/public/simple/\n",
            "Requirement already satisfied: nltk in /usr/local/lib/python3.7/dist-packages (3.3)\n",
            "Requirement already satisfied: six in /usr/local/lib/python3.7/dist-packages (from nltk) (1.15.0)\n"
          ]
        }
      ],
      "source": [
        "!mkdir resources\n",
        "!wget -q \"https://github.com/sobhe/hazm/releases/download/v0.5/resources-0.5.zip\" -P resources\n",
        "!unzip -qq resources/resources-0.5.zip -d resources\n",
        "!rm -rf /content/4ccae468eb73ybf6c4f4de3075ddb5336\n",
        "!rm -rf /content/preproc\n",
        "!rm preprocessing.py utils.py\n",
        "!mkdir -p /content/preproc\n",
        "!git clone https://gist.github.com/4ccae468eb73bf6c4f4de3075ddb5336.git /content/preproc/\n",
        "!mv /content/preproc/* /content/\n",
        "!rm -rf /content/preproc\n",
        "!pip install hazm\n",
        "!pip3 install nltk\n"
      ]
    },
    {
      "cell_type": "code",
      "execution_count": null,
      "metadata": {
        "id": "8L8HI4zoD5Ua",
        "colab": {
          "base_uri": "https://localhost:8080/"
        },
        "outputId": "568fd6c9-4b8f-426b-e305-dbacfe18fa2c"
      },
      "outputs": [
        {
          "output_type": "stream",
          "name": "stdout",
          "text": [
            "Downloading...\n",
            "From: https://drive.google.com/uc?id=12OhtiFHTm121MTqCbRfdFUkP8j1A6dmX\n",
            "To: /content/PerSICK.csv\n",
            "\r  0% 0.00/471k [00:00<?, ?B/s]\r100% 471k/471k [00:00<00:00, 25.2MB/s]\n"
          ]
        }
      ],
      "source": [
        "\n",
        "import matplotlib.pyplot as plt\n",
        "import numpy as np\n",
        "import nltk\n",
        "import pandas as pd\n",
        "import random\n",
        "from tqdm import tqdm\n",
        "import tensorflow as tf\n",
        "\n",
        "from keras.models import Model\n",
        "from keras.models import Sequential\n",
        "from keras.preprocessing.sequence import pad_sequences\n",
        "from keras.preprocessing.text import Tokenizer\n",
        "from sklearn.model_selection import train_test_split\n",
        "from sklearn.preprocessing import LabelEncoder\n",
        "from tensorflow.keras import layers\n",
        "from tensorflow.keras.utils import to_categorical\n",
        "\n",
        "from __future__ import unicode_literals\n",
        "from hazm import *\n",
        "import hazm\n",
        "\n",
        "!gdown 12OhtiFHTm121MTqCbRfdFUkP8j1A6dmX\n"
      ]
    },
    {
      "cell_type": "markdown",
      "source": [
        "## useful functions and dictionaries\n"
      ],
      "metadata": {
        "id": "HQ1C5zpyw7Ef"
      }
    },
    {
      "cell_type": "code",
      "source": [
        "import string \n",
        "tokenizer = WordTokenizer()\n",
        "stemmer = Stemmer()\n",
        "normalizer = Normalizer()\n",
        "lemmatizer = Lemmatizer()\n",
        "tagger = POSTagger(model='resources/postagger.model')\n",
        "parser = DependencyParser(tagger=tagger, lemmatizer=lemmatizer)\n",
        "labelEncoder = LabelEncoder()\n",
        "\n",
        "seed=1500\n",
        "tf.random.set_seed(seed)\n",
        "random.seed(seed)\n",
        "np.random.seed(seed)\n",
        "\n",
        "my_dict={}\n",
        "my_dict['other'] = [\"نفر\", \"تماشاگر\",\n",
        "                    \"افراد\", \"مردمی\", \n",
        "                    \"برخی\", \"شخص\", \n",
        "                    \"گروه\", \"جمعیت\", \n",
        "                    \"انسان\"\n",
        "                    ,\"بازیکن\",\"فوتبالیست\" ]\n",
        "my_dict['zan'] = [\"زن\", \"خانم\", \"دختر\", \"پیرزن\", \"بانو\", \"عروس\", \"مادر\", \"ماده\"]\n",
        "my_dict['mard'] =[\"مرد\", \"آقا\",\"پسر\", \"پدر\", \"پیرمرد\", \"نر\"]\n",
        "my_dict['koodak'] =[\"کودک\", \"بچه\", \"فرزند\", \"نوزاد\", ]\n",
        "my_dict['heyvan'] = [\"حیوان\", \"آهو\", \"سگ\", \"گربه\", \"گوزن\", \"گاو\"\n",
        ", \"اسب\", \"لاک\",\"لاک‌‌پشت\", \"ماهی\",\n",
        "               \"میگو\", \"میمون\", \"توله\", \"گورکن\", \n",
        "                              \"حیوانات\", \"شیر\", \"طوطی\",\n",
        "               \"موش\", \"مار\", \"قورباغه\", \"فیل\", \"یوزپلنگ\",\n",
        "                \"شامپانزه\", \"تمساح\", \"ببر\", \"خوکچه\", \"گله\"]\n",
        "               \n",
        "\n",
        "\n",
        "\n",
        "def cleanUpDataframe(df):\n",
        "  df = df.drop_duplicates() #drop duplicates\n",
        "  df = df.dropna() # If any NA values are present, drop that row or column. \n",
        "  \n",
        "  for i in df.index:\n",
        "    if \"/\" in df['score'][i]:\n",
        "      df=df.drop([i])\n",
        "  df\n",
        "  df=df.reset_index(drop=True)\n",
        "  return df\n",
        "\n",
        "\n",
        "def normalizeSentence(df,column):\n",
        "  df[column].apply(normalizer.normalize)\n",
        "  return df[column]\n",
        "\n",
        "\n",
        "def remove_punctuations(df,column):\n",
        "\n",
        "    puncs = list(string.punctuation) + [' ', '1', '\\xa0', 'ِ', '\\u200c', 'ُ', 'َ', '٫', 'ّ', 'ْ', '۰', '۳', '٫']\n",
        "    for punctuation in puncs:\n",
        "        df[column] = df[column].replace(punctuation, ' ')\n",
        "    return df[column]\n",
        " \n",
        "\n",
        " # finding the subject \n",
        "\n",
        "def findSubjectInSntence(sentence):\n",
        "    subjects = \"\"\n",
        "    nodes = parser.parse(word_tokenize(sentence)).nodes\n",
        "    nodesNumber=len(nodes)\n",
        "    for i in range(nodesNumber):\n",
        "        if nodes[i]['rel'] == 'SBJ':\n",
        "            subjects=stemmer.stem(nodes[i]['lemma'])\n",
        "            break\n",
        "    return subjects\n",
        "\n",
        "\n",
        "def stemAndNormlizeDic(dic):\n",
        "  for key in dic:\n",
        "    value = []\n",
        "    for word in dic[key]:\n",
        "      normal_stemmed = stemmer.stem(normalizer.normalize(word))\n",
        "      value.append(normal_stemmed)\n",
        "      dic[key] = value\n",
        "  return dic      \n",
        "\n"
      ],
      "metadata": {
        "id": "wrXZ_UImtt3W"
      },
      "execution_count": null,
      "outputs": []
    },
    {
      "cell_type": "markdown",
      "source": [
        "## Downloading dataset"
      ],
      "metadata": {
        "id": "ePV1Fav1xIfS"
      }
    },
    {
      "cell_type": "code",
      "execution_count": null,
      "metadata": {
        "colab": {
          "base_uri": "https://localhost:8080/",
          "height": 424
        },
        "id": "MOu-eQyKgZ4t",
        "outputId": "e9fbc1ac-8644-4f43-e321-934e300e2105"
      },
      "outputs": [
        {
          "output_type": "execute_result",
          "data": {
            "text/plain": [
              "     score                                          sentence1  \\\n",
              "0      4.5  گروهی از بچه ها در حیاط بازی می کنند و پیرمردی...   \n",
              "1      3.2  گروهی از کودکان در خانه مشغول بازی هستند و هیچ...   \n",
              "2      4.7  پسران جوان در فضای باز بازی می کنند و مرد در ه...   \n",
              "3      3.4  بچه ها در بیرون از خانه و در کنار یک مرد با لب...   \n",
              "4      3.7  پسران جوان در فضای باز بازی می کنند و مرد در ه...   \n",
              "...    ...                                                ...   \n",
              "3097   2.8             سگ سیاه و سفید روی حیاطی سبز نشسته است   \n",
              "3098   4.8               سگ سیاه و سفید در فضای بیرون می دوید   \n",
              "3099   3.8           یک زن و مرد در حال پریدن روی حاشیه هستند   \n",
              "3100   3.4  زنی با پیراهن آبی و پاشنه بلند در پیاده رو کنا...   \n",
              "3101   3.6       سگی در حال پریدن از زیر سایه برخی درختان است   \n",
              "\n",
              "                                              sentence2  \n",
              "0     گروهی از پسران در حیاط بازی می کنند و مردی در ...  \n",
              "1     گروهی از بچه ها در حیاط بازی می کنند و پیرمردی...  \n",
              "2     بچه ها در بیرون از خانه و در کنار یک مرد با لب...  \n",
              "3     گروهی از بچه ها در حیاط بازی می کنند و پیرمردی...  \n",
              "4     گروهی از بچه ها در حیاط بازی می کنند و پیرمردی...  \n",
              "...                                                 ...  \n",
              "3097                 سگ سیاه و سفید در حیاطی سبز می دود  \n",
              "3098     یک سگ سیاه و سفید در فضای باز در حال دویدن است  \n",
              "3099                  یک زن و مرد روی حاشیه ایستاده اند  \n",
              "3100                  یک زن و مرد روی حاشیه ایستاده اند  \n",
              "3101                   سگی در حال ساییدن روی درختان است  \n",
              "\n",
              "[3102 rows x 3 columns]"
            ],
            "text/html": [
              "\n",
              "  <div id=\"df-533b29f8-e408-4969-a82f-f8e7b7cc2f7d\">\n",
              "    <div class=\"colab-df-container\">\n",
              "      <div>\n",
              "<style scoped>\n",
              "    .dataframe tbody tr th:only-of-type {\n",
              "        vertical-align: middle;\n",
              "    }\n",
              "\n",
              "    .dataframe tbody tr th {\n",
              "        vertical-align: top;\n",
              "    }\n",
              "\n",
              "    .dataframe thead th {\n",
              "        text-align: right;\n",
              "    }\n",
              "</style>\n",
              "<table border=\"1\" class=\"dataframe\">\n",
              "  <thead>\n",
              "    <tr style=\"text-align: right;\">\n",
              "      <th></th>\n",
              "      <th>score</th>\n",
              "      <th>sentence1</th>\n",
              "      <th>sentence2</th>\n",
              "    </tr>\n",
              "  </thead>\n",
              "  <tbody>\n",
              "    <tr>\n",
              "      <th>0</th>\n",
              "      <td>4.5</td>\n",
              "      <td>گروهی از بچه ها در حیاط بازی می کنند و پیرمردی...</td>\n",
              "      <td>گروهی از پسران در حیاط بازی می کنند و مردی در ...</td>\n",
              "    </tr>\n",
              "    <tr>\n",
              "      <th>1</th>\n",
              "      <td>3.2</td>\n",
              "      <td>گروهی از کودکان در خانه مشغول بازی هستند و هیچ...</td>\n",
              "      <td>گروهی از بچه ها در حیاط بازی می کنند و پیرمردی...</td>\n",
              "    </tr>\n",
              "    <tr>\n",
              "      <th>2</th>\n",
              "      <td>4.7</td>\n",
              "      <td>پسران جوان در فضای باز بازی می کنند و مرد در ه...</td>\n",
              "      <td>بچه ها در بیرون از خانه و در کنار یک مرد با لب...</td>\n",
              "    </tr>\n",
              "    <tr>\n",
              "      <th>3</th>\n",
              "      <td>3.4</td>\n",
              "      <td>بچه ها در بیرون از خانه و در کنار یک مرد با لب...</td>\n",
              "      <td>گروهی از بچه ها در حیاط بازی می کنند و پیرمردی...</td>\n",
              "    </tr>\n",
              "    <tr>\n",
              "      <th>4</th>\n",
              "      <td>3.7</td>\n",
              "      <td>پسران جوان در فضای باز بازی می کنند و مرد در ه...</td>\n",
              "      <td>گروهی از بچه ها در حیاط بازی می کنند و پیرمردی...</td>\n",
              "    </tr>\n",
              "    <tr>\n",
              "      <th>...</th>\n",
              "      <td>...</td>\n",
              "      <td>...</td>\n",
              "      <td>...</td>\n",
              "    </tr>\n",
              "    <tr>\n",
              "      <th>3097</th>\n",
              "      <td>2.8</td>\n",
              "      <td>سگ سیاه و سفید روی حیاطی سبز نشسته است</td>\n",
              "      <td>سگ سیاه و سفید در حیاطی سبز می دود</td>\n",
              "    </tr>\n",
              "    <tr>\n",
              "      <th>3098</th>\n",
              "      <td>4.8</td>\n",
              "      <td>سگ سیاه و سفید در فضای بیرون می دوید</td>\n",
              "      <td>یک سگ سیاه و سفید در فضای باز در حال دویدن است</td>\n",
              "    </tr>\n",
              "    <tr>\n",
              "      <th>3099</th>\n",
              "      <td>3.8</td>\n",
              "      <td>یک زن و مرد در حال پریدن روی حاشیه هستند</td>\n",
              "      <td>یک زن و مرد روی حاشیه ایستاده اند</td>\n",
              "    </tr>\n",
              "    <tr>\n",
              "      <th>3100</th>\n",
              "      <td>3.4</td>\n",
              "      <td>زنی با پیراهن آبی و پاشنه بلند در پیاده رو کنا...</td>\n",
              "      <td>یک زن و مرد روی حاشیه ایستاده اند</td>\n",
              "    </tr>\n",
              "    <tr>\n",
              "      <th>3101</th>\n",
              "      <td>3.6</td>\n",
              "      <td>سگی در حال پریدن از زیر سایه برخی درختان است</td>\n",
              "      <td>سگی در حال ساییدن روی درختان است</td>\n",
              "    </tr>\n",
              "  </tbody>\n",
              "</table>\n",
              "<p>3102 rows × 3 columns</p>\n",
              "</div>\n",
              "      <button class=\"colab-df-convert\" onclick=\"convertToInteractive('df-533b29f8-e408-4969-a82f-f8e7b7cc2f7d')\"\n",
              "              title=\"Convert this dataframe to an interactive table.\"\n",
              "              style=\"display:none;\">\n",
              "        \n",
              "  <svg xmlns=\"http://www.w3.org/2000/svg\" height=\"24px\"viewBox=\"0 0 24 24\"\n",
              "       width=\"24px\">\n",
              "    <path d=\"M0 0h24v24H0V0z\" fill=\"none\"/>\n",
              "    <path d=\"M18.56 5.44l.94 2.06.94-2.06 2.06-.94-2.06-.94-.94-2.06-.94 2.06-2.06.94zm-11 1L8.5 8.5l.94-2.06 2.06-.94-2.06-.94L8.5 2.5l-.94 2.06-2.06.94zm10 10l.94 2.06.94-2.06 2.06-.94-2.06-.94-.94-2.06-.94 2.06-2.06.94z\"/><path d=\"M17.41 7.96l-1.37-1.37c-.4-.4-.92-.59-1.43-.59-.52 0-1.04.2-1.43.59L10.3 9.45l-7.72 7.72c-.78.78-.78 2.05 0 2.83L4 21.41c.39.39.9.59 1.41.59.51 0 1.02-.2 1.41-.59l7.78-7.78 2.81-2.81c.8-.78.8-2.07 0-2.86zM5.41 20L4 18.59l7.72-7.72 1.47 1.35L5.41 20z\"/>\n",
              "  </svg>\n",
              "      </button>\n",
              "      \n",
              "  <style>\n",
              "    .colab-df-container {\n",
              "      display:flex;\n",
              "      flex-wrap:wrap;\n",
              "      gap: 12px;\n",
              "    }\n",
              "\n",
              "    .colab-df-convert {\n",
              "      background-color: #E8F0FE;\n",
              "      border: none;\n",
              "      border-radius: 50%;\n",
              "      cursor: pointer;\n",
              "      display: none;\n",
              "      fill: #1967D2;\n",
              "      height: 32px;\n",
              "      padding: 0 0 0 0;\n",
              "      width: 32px;\n",
              "    }\n",
              "\n",
              "    .colab-df-convert:hover {\n",
              "      background-color: #E2EBFA;\n",
              "      box-shadow: 0px 1px 2px rgba(60, 64, 67, 0.3), 0px 1px 3px 1px rgba(60, 64, 67, 0.15);\n",
              "      fill: #174EA6;\n",
              "    }\n",
              "\n",
              "    [theme=dark] .colab-df-convert {\n",
              "      background-color: #3B4455;\n",
              "      fill: #D2E3FC;\n",
              "    }\n",
              "\n",
              "    [theme=dark] .colab-df-convert:hover {\n",
              "      background-color: #434B5C;\n",
              "      box-shadow: 0px 1px 3px 1px rgba(0, 0, 0, 0.15);\n",
              "      filter: drop-shadow(0px 1px 2px rgba(0, 0, 0, 0.3));\n",
              "      fill: #FFFFFF;\n",
              "    }\n",
              "  </style>\n",
              "\n",
              "      <script>\n",
              "        const buttonEl =\n",
              "          document.querySelector('#df-533b29f8-e408-4969-a82f-f8e7b7cc2f7d button.colab-df-convert');\n",
              "        buttonEl.style.display =\n",
              "          google.colab.kernel.accessAllowed ? 'block' : 'none';\n",
              "\n",
              "        async function convertToInteractive(key) {\n",
              "          const element = document.querySelector('#df-533b29f8-e408-4969-a82f-f8e7b7cc2f7d');\n",
              "          const dataTable =\n",
              "            await google.colab.kernel.invokeFunction('convertToInteractive',\n",
              "                                                     [key], {});\n",
              "          if (!dataTable) return;\n",
              "\n",
              "          const docLinkHtml = 'Like what you see? Visit the ' +\n",
              "            '<a target=\"_blank\" href=https://colab.research.google.com/notebooks/data_table.ipynb>data table notebook</a>'\n",
              "            + ' to learn more about interactive tables.';\n",
              "          element.innerHTML = '';\n",
              "          dataTable['output_type'] = 'display_data';\n",
              "          await google.colab.output.renderOutput(dataTable, element);\n",
              "          const docLink = document.createElement('div');\n",
              "          docLink.innerHTML = docLinkHtml;\n",
              "          element.appendChild(docLink);\n",
              "        }\n",
              "      </script>\n",
              "    </div>\n",
              "  </div>\n",
              "  "
            ]
          },
          "metadata": {},
          "execution_count": 62
        }
      ],
      "source": [
        "\n",
        "df = pd.read_csv('/content/PerSICK.csv')\n",
        "df\n"
      ]
    },
    {
      "cell_type": "markdown",
      "metadata": {
        "id": "737IDqcnRbSH"
      },
      "source": [
        "##cleanUpDataframe"
      ]
    },
    {
      "cell_type": "code",
      "execution_count": null,
      "metadata": {
        "id": "oax45gigQqUB"
      },
      "outputs": [],
      "source": [
        "df=cleanUpDataframe(df)"
      ]
    },
    {
      "cell_type": "code",
      "source": [
        "\n",
        "df[\"score\"] = pd.to_numeric(df[\"score\"], downcast=\"float\") #cast to float\n",
        "df['score'] = df['score'].round(0) #rounding score\n",
        "df"
      ],
      "metadata": {
        "id": "GVBrzwdHvFEy",
        "colab": {
          "base_uri": "https://localhost:8080/",
          "height": 424
        },
        "outputId": "1f16236a-e036-40bb-a789-48c0f806b43f"
      },
      "execution_count": null,
      "outputs": [
        {
          "output_type": "execute_result",
          "data": {
            "text/plain": [
              "      score                                          sentence1  \\\n",
              "0       4.0  گروهی از بچه ها در حیاط بازی می کنند و پیرمردی...   \n",
              "1       3.0  گروهی از کودکان در خانه مشغول بازی هستند و هیچ...   \n",
              "2       5.0  پسران جوان در فضای باز بازی می کنند و مرد در ه...   \n",
              "3       3.0  بچه ها در بیرون از خانه و در کنار یک مرد با لب...   \n",
              "4       4.0  پسران جوان در فضای باز بازی می کنند و مرد در ه...   \n",
              "...     ...                                                ...   \n",
              "3092    3.0             سگ سیاه و سفید روی حیاطی سبز نشسته است   \n",
              "3093    5.0               سگ سیاه و سفید در فضای بیرون می دوید   \n",
              "3094    4.0           یک زن و مرد در حال پریدن روی حاشیه هستند   \n",
              "3095    3.0  زنی با پیراهن آبی و پاشنه بلند در پیاده رو کنا...   \n",
              "3096    4.0       سگی در حال پریدن از زیر سایه برخی درختان است   \n",
              "\n",
              "                                              sentence2  \n",
              "0     گروهی از پسران در حیاط بازی می کنند و مردی در ...  \n",
              "1     گروهی از بچه ها در حیاط بازی می کنند و پیرمردی...  \n",
              "2     بچه ها در بیرون از خانه و در کنار یک مرد با لب...  \n",
              "3     گروهی از بچه ها در حیاط بازی می کنند و پیرمردی...  \n",
              "4     گروهی از بچه ها در حیاط بازی می کنند و پیرمردی...  \n",
              "...                                                 ...  \n",
              "3092                 سگ سیاه و سفید در حیاطی سبز می دود  \n",
              "3093     یک سگ سیاه و سفید در فضای باز در حال دویدن است  \n",
              "3094                  یک زن و مرد روی حاشیه ایستاده اند  \n",
              "3095                  یک زن و مرد روی حاشیه ایستاده اند  \n",
              "3096                   سگی در حال ساییدن روی درختان است  \n",
              "\n",
              "[3097 rows x 3 columns]"
            ],
            "text/html": [
              "\n",
              "  <div id=\"df-a5e76401-1eda-424d-9c9b-ef8bab394108\">\n",
              "    <div class=\"colab-df-container\">\n",
              "      <div>\n",
              "<style scoped>\n",
              "    .dataframe tbody tr th:only-of-type {\n",
              "        vertical-align: middle;\n",
              "    }\n",
              "\n",
              "    .dataframe tbody tr th {\n",
              "        vertical-align: top;\n",
              "    }\n",
              "\n",
              "    .dataframe thead th {\n",
              "        text-align: right;\n",
              "    }\n",
              "</style>\n",
              "<table border=\"1\" class=\"dataframe\">\n",
              "  <thead>\n",
              "    <tr style=\"text-align: right;\">\n",
              "      <th></th>\n",
              "      <th>score</th>\n",
              "      <th>sentence1</th>\n",
              "      <th>sentence2</th>\n",
              "    </tr>\n",
              "  </thead>\n",
              "  <tbody>\n",
              "    <tr>\n",
              "      <th>0</th>\n",
              "      <td>4.0</td>\n",
              "      <td>گروهی از بچه ها در حیاط بازی می کنند و پیرمردی...</td>\n",
              "      <td>گروهی از پسران در حیاط بازی می کنند و مردی در ...</td>\n",
              "    </tr>\n",
              "    <tr>\n",
              "      <th>1</th>\n",
              "      <td>3.0</td>\n",
              "      <td>گروهی از کودکان در خانه مشغول بازی هستند و هیچ...</td>\n",
              "      <td>گروهی از بچه ها در حیاط بازی می کنند و پیرمردی...</td>\n",
              "    </tr>\n",
              "    <tr>\n",
              "      <th>2</th>\n",
              "      <td>5.0</td>\n",
              "      <td>پسران جوان در فضای باز بازی می کنند و مرد در ه...</td>\n",
              "      <td>بچه ها در بیرون از خانه و در کنار یک مرد با لب...</td>\n",
              "    </tr>\n",
              "    <tr>\n",
              "      <th>3</th>\n",
              "      <td>3.0</td>\n",
              "      <td>بچه ها در بیرون از خانه و در کنار یک مرد با لب...</td>\n",
              "      <td>گروهی از بچه ها در حیاط بازی می کنند و پیرمردی...</td>\n",
              "    </tr>\n",
              "    <tr>\n",
              "      <th>4</th>\n",
              "      <td>4.0</td>\n",
              "      <td>پسران جوان در فضای باز بازی می کنند و مرد در ه...</td>\n",
              "      <td>گروهی از بچه ها در حیاط بازی می کنند و پیرمردی...</td>\n",
              "    </tr>\n",
              "    <tr>\n",
              "      <th>...</th>\n",
              "      <td>...</td>\n",
              "      <td>...</td>\n",
              "      <td>...</td>\n",
              "    </tr>\n",
              "    <tr>\n",
              "      <th>3092</th>\n",
              "      <td>3.0</td>\n",
              "      <td>سگ سیاه و سفید روی حیاطی سبز نشسته است</td>\n",
              "      <td>سگ سیاه و سفید در حیاطی سبز می دود</td>\n",
              "    </tr>\n",
              "    <tr>\n",
              "      <th>3093</th>\n",
              "      <td>5.0</td>\n",
              "      <td>سگ سیاه و سفید در فضای بیرون می دوید</td>\n",
              "      <td>یک سگ سیاه و سفید در فضای باز در حال دویدن است</td>\n",
              "    </tr>\n",
              "    <tr>\n",
              "      <th>3094</th>\n",
              "      <td>4.0</td>\n",
              "      <td>یک زن و مرد در حال پریدن روی حاشیه هستند</td>\n",
              "      <td>یک زن و مرد روی حاشیه ایستاده اند</td>\n",
              "    </tr>\n",
              "    <tr>\n",
              "      <th>3095</th>\n",
              "      <td>3.0</td>\n",
              "      <td>زنی با پیراهن آبی و پاشنه بلند در پیاده رو کنا...</td>\n",
              "      <td>یک زن و مرد روی حاشیه ایستاده اند</td>\n",
              "    </tr>\n",
              "    <tr>\n",
              "      <th>3096</th>\n",
              "      <td>4.0</td>\n",
              "      <td>سگی در حال پریدن از زیر سایه برخی درختان است</td>\n",
              "      <td>سگی در حال ساییدن روی درختان است</td>\n",
              "    </tr>\n",
              "  </tbody>\n",
              "</table>\n",
              "<p>3097 rows × 3 columns</p>\n",
              "</div>\n",
              "      <button class=\"colab-df-convert\" onclick=\"convertToInteractive('df-a5e76401-1eda-424d-9c9b-ef8bab394108')\"\n",
              "              title=\"Convert this dataframe to an interactive table.\"\n",
              "              style=\"display:none;\">\n",
              "        \n",
              "  <svg xmlns=\"http://www.w3.org/2000/svg\" height=\"24px\"viewBox=\"0 0 24 24\"\n",
              "       width=\"24px\">\n",
              "    <path d=\"M0 0h24v24H0V0z\" fill=\"none\"/>\n",
              "    <path d=\"M18.56 5.44l.94 2.06.94-2.06 2.06-.94-2.06-.94-.94-2.06-.94 2.06-2.06.94zm-11 1L8.5 8.5l.94-2.06 2.06-.94-2.06-.94L8.5 2.5l-.94 2.06-2.06.94zm10 10l.94 2.06.94-2.06 2.06-.94-2.06-.94-.94-2.06-.94 2.06-2.06.94z\"/><path d=\"M17.41 7.96l-1.37-1.37c-.4-.4-.92-.59-1.43-.59-.52 0-1.04.2-1.43.59L10.3 9.45l-7.72 7.72c-.78.78-.78 2.05 0 2.83L4 21.41c.39.39.9.59 1.41.59.51 0 1.02-.2 1.41-.59l7.78-7.78 2.81-2.81c.8-.78.8-2.07 0-2.86zM5.41 20L4 18.59l7.72-7.72 1.47 1.35L5.41 20z\"/>\n",
              "  </svg>\n",
              "      </button>\n",
              "      \n",
              "  <style>\n",
              "    .colab-df-container {\n",
              "      display:flex;\n",
              "      flex-wrap:wrap;\n",
              "      gap: 12px;\n",
              "    }\n",
              "\n",
              "    .colab-df-convert {\n",
              "      background-color: #E8F0FE;\n",
              "      border: none;\n",
              "      border-radius: 50%;\n",
              "      cursor: pointer;\n",
              "      display: none;\n",
              "      fill: #1967D2;\n",
              "      height: 32px;\n",
              "      padding: 0 0 0 0;\n",
              "      width: 32px;\n",
              "    }\n",
              "\n",
              "    .colab-df-convert:hover {\n",
              "      background-color: #E2EBFA;\n",
              "      box-shadow: 0px 1px 2px rgba(60, 64, 67, 0.3), 0px 1px 3px 1px rgba(60, 64, 67, 0.15);\n",
              "      fill: #174EA6;\n",
              "    }\n",
              "\n",
              "    [theme=dark] .colab-df-convert {\n",
              "      background-color: #3B4455;\n",
              "      fill: #D2E3FC;\n",
              "    }\n",
              "\n",
              "    [theme=dark] .colab-df-convert:hover {\n",
              "      background-color: #434B5C;\n",
              "      box-shadow: 0px 1px 3px 1px rgba(0, 0, 0, 0.15);\n",
              "      filter: drop-shadow(0px 1px 2px rgba(0, 0, 0, 0.3));\n",
              "      fill: #FFFFFF;\n",
              "    }\n",
              "  </style>\n",
              "\n",
              "      <script>\n",
              "        const buttonEl =\n",
              "          document.querySelector('#df-a5e76401-1eda-424d-9c9b-ef8bab394108 button.colab-df-convert');\n",
              "        buttonEl.style.display =\n",
              "          google.colab.kernel.accessAllowed ? 'block' : 'none';\n",
              "\n",
              "        async function convertToInteractive(key) {\n",
              "          const element = document.querySelector('#df-a5e76401-1eda-424d-9c9b-ef8bab394108');\n",
              "          const dataTable =\n",
              "            await google.colab.kernel.invokeFunction('convertToInteractive',\n",
              "                                                     [key], {});\n",
              "          if (!dataTable) return;\n",
              "\n",
              "          const docLinkHtml = 'Like what you see? Visit the ' +\n",
              "            '<a target=\"_blank\" href=https://colab.research.google.com/notebooks/data_table.ipynb>data table notebook</a>'\n",
              "            + ' to learn more about interactive tables.';\n",
              "          element.innerHTML = '';\n",
              "          dataTable['output_type'] = 'display_data';\n",
              "          await google.colab.output.renderOutput(dataTable, element);\n",
              "          const docLink = document.createElement('div');\n",
              "          docLink.innerHTML = docLinkHtml;\n",
              "          element.appendChild(docLink);\n",
              "        }\n",
              "      </script>\n",
              "    </div>\n",
              "  </div>\n",
              "  "
            ]
          },
          "metadata": {},
          "execution_count": 64
        }
      ]
    },
    {
      "cell_type": "markdown",
      "metadata": {
        "id": "PE6enaV2XaG3"
      },
      "source": [
        "## pre processing"
      ]
    },
    {
      "cell_type": "markdown",
      "metadata": {
        "id": "jGq7N2Znzvyd"
      },
      "source": [
        "###remove puncuation"
      ]
    },
    {
      "cell_type": "code",
      "execution_count": null,
      "metadata": {
        "id": "qFE4DrolSBUy"
      },
      "outputs": [],
      "source": [
        "\n",
        "df[\"sentence1\"] =remove_punctuations(df,\"sentence1\")\n",
        "df[\"sentence2\"] = remove_punctuations(df,\"sentence2\")\n"
      ]
    },
    {
      "cell_type": "markdown",
      "metadata": {
        "id": "wbBwaiMvZyhr"
      },
      "source": [
        "### normilzling"
      ]
    },
    {
      "cell_type": "code",
      "execution_count": null,
      "metadata": {
        "id": "iRfGZzTTEJmo"
      },
      "outputs": [],
      "source": [
        "\n",
        "normalized_dataFrame = df.copy()\n",
        "normalized_dataFrame['sentence1'] = normalizeSentence(normalized_dataFrame,\"sentence1\")\n",
        "normalized_dataFrame['sentence2'] = normalizeSentence(normalized_dataFrame,\"sentence2\")\n",
        "sentence1 = normalized_dataFrame['sentence1'].tolist()\n",
        "sentence2 = normalized_dataFrame['sentence2'].tolist()\n",
        "\n",
        "#finding length of normalized df (for padding )\n",
        "length1 = normalized_dataFrame['sentence1'].str.split().str.len().max()\n",
        "length2 = normalized_dataFrame['sentence2'].str.split().str.len().max()\n",
        "maxLength = length1 if length2 < length1 else length2\n"
      ]
    },
    {
      "cell_type": "markdown",
      "metadata": {
        "id": "nMPaNoj9j7ub"
      },
      "source": [
        "## find subject"
      ]
    },
    {
      "cell_type": "markdown",
      "source": [
        "example of using parser"
      ],
      "metadata": {
        "id": "6_u_IZdf79y8"
      }
    },
    {
      "cell_type": "code",
      "source": [
        "parser.parse(word_tokenize(normalized_dataFrame[\"sentence1\"][2]))\n"
      ],
      "metadata": {
        "colab": {
          "base_uri": "https://localhost:8080/",
          "height": 776
        },
        "id": "_99vONVw5F_G",
        "outputId": "5247b933-f078-4245-87db-055c712649d5"
      },
      "execution_count": null,
      "outputs": [
        {
          "output_type": "execute_result",
          "data": {
            "text/plain": [
              "<DependencyGraph with 17 nodes>"
            ],
            "image/svg+xml": "<?xml version=\"1.0\" encoding=\"UTF-8\" standalone=\"no\"?>\n<!DOCTYPE svg PUBLIC \"-//W3C//DTD SVG 1.1//EN\"\n \"http://www.w3.org/Graphics/SVG/1.1/DTD/svg11.dtd\">\n<!-- Generated by graphviz version 2.40.1 (20161225.0304)\n -->\n<!-- Title: G Pages: 1 -->\n<svg width=\"540pt\" height=\"566pt\"\n viewBox=\"0.00 0.00 540.00 566.00\" xmlns=\"http://www.w3.org/2000/svg\" xmlns:xlink=\"http://www.w3.org/1999/xlink\">\n<g id=\"graph0\" class=\"graph\" transform=\"scale(1 1) rotate(0) translate(4 562)\">\n<title>G</title>\n<polygon fill=\"#ffffff\" stroke=\"transparent\" points=\"-4,4 -4,-562 536,-562 536,4 -4,4\"/>\n<!-- 0 -->\n<g id=\"node1\" class=\"node\">\n<title>0</title>\n<text text-anchor=\"middle\" x=\"299\" y=\"-536.3\" font-family=\"Times,serif\" font-size=\"14.00\" fill=\"#000000\">0 (None)</text>\n</g>\n<!-- 16 -->\n<g id=\"node2\" class=\"node\">\n<title>16</title>\n<text text-anchor=\"middle\" x=\"299\" y=\"-449.3\" font-family=\"Times,serif\" font-size=\"14.00\" fill=\"#000000\">16 (زند)</text>\n</g>\n<!-- 0&#45;&gt;16 -->\n<g id=\"edge1\" class=\"edge\">\n<title>0&#45;&gt;16</title>\n<path fill=\"none\" stroke=\"#000000\" d=\"M299,-521.9735C299,-510.1918 299,-494.5607 299,-481.1581\"/>\n<polygon fill=\"#000000\" stroke=\"#000000\" points=\"302.5001,-481.0033 299,-471.0034 295.5001,-481.0034 302.5001,-481.0033\"/>\n<text text-anchor=\"middle\" x=\"319\" y=\"-492.8\" font-family=\"Times,serif\" font-size=\"14.00\" fill=\"#000000\">ROOT</text>\n</g>\n<!-- 9 -->\n<g id=\"node11\" class=\"node\">\n<title>9</title>\n<text text-anchor=\"middle\" x=\"161\" y=\"-362.3\" font-family=\"Times,serif\" font-size=\"14.00\" fill=\"#000000\">9 (و)</text>\n</g>\n<!-- 16&#45;&gt;9 -->\n<g id=\"edge13\" class=\"edge\">\n<title>16&#45;&gt;9</title>\n<path fill=\"none\" stroke=\"#000000\" d=\"M255.1915,-435.7149C243.4073,-430.3554 230.9115,-423.9968 220,-417 208.3986,-409.5608 196.6953,-399.9745 186.8052,-391.1247\"/>\n<polygon fill=\"#000000\" stroke=\"#000000\" points=\"189.0344,-388.4201 179.2989,-384.2403 184.3029,-393.5789 189.0344,-388.4201\"/>\n<text text-anchor=\"middle\" x=\"243.5\" y=\"-405.8\" font-family=\"Times,serif\" font-size=\"14.00\" fill=\"#000000\">VCONJ</text>\n</g>\n<!-- 10 -->\n<g id=\"node12\" class=\"node\">\n<title>10</title>\n<text text-anchor=\"middle\" x=\"250\" y=\"-362.3\" font-family=\"Times,serif\" font-size=\"14.00\" fill=\"#000000\">10 (مرد)</text>\n</g>\n<!-- 16&#45;&gt;10 -->\n<g id=\"edge14\" class=\"edge\">\n<title>16&#45;&gt;10</title>\n<path fill=\"none\" stroke=\"#000000\" d=\"M288.2244,-434.7389C284.9136,-429.0718 281.2792,-422.7931 278,-417 273.6136,-409.2508 268.9278,-400.7909 264.6691,-393.0286\"/>\n<polygon fill=\"#000000\" stroke=\"#000000\" points=\"267.6022,-391.0973 259.7349,-384.0011 261.4598,-394.4546 267.6022,-391.0973\"/>\n<text text-anchor=\"middle\" x=\"290\" y=\"-405.8\" font-family=\"Times,serif\" font-size=\"14.00\" fill=\"#000000\">SBJ</text>\n</g>\n<!-- 11 -->\n<g id=\"node13\" class=\"node\">\n<title>11</title>\n<text text-anchor=\"middle\" x=\"348\" y=\"-362.3\" font-family=\"Times,serif\" font-size=\"14.00\" fill=\"#000000\">11 (در)</text>\n</g>\n<!-- 16&#45;&gt;11 -->\n<g id=\"edge15\" class=\"edge\">\n<title>16&#45;&gt;11</title>\n<path fill=\"none\" stroke=\"#000000\" d=\"M309.1528,-434.9735C315.9856,-422.8418 325.1172,-406.6287 332.8101,-392.9698\"/>\n<polygon fill=\"#000000\" stroke=\"#000000\" points=\"336.0023,-394.4341 337.8602,-384.0034 329.9032,-390.9989 336.0023,-394.4341\"/>\n<text text-anchor=\"middle\" x=\"341\" y=\"-405.8\" font-family=\"Times,serif\" font-size=\"14.00\" fill=\"#000000\">VPP</text>\n</g>\n<!-- 15 -->\n<g id=\"node17\" class=\"node\">\n<title>15</title>\n<text text-anchor=\"middle\" x=\"439\" y=\"-362.3\" font-family=\"Times,serif\" font-size=\"14.00\" fill=\"#000000\">15 (می)</text>\n</g>\n<!-- 16&#45;&gt;15 -->\n<g id=\"edge16\" class=\"edge\">\n<title>16&#45;&gt;15</title>\n<path fill=\"none\" stroke=\"#000000\" d=\"M329.6206,-434.8452C339.0733,-429.1824 349.4955,-422.8794 359,-417 373.2484,-408.186 388.8042,-398.3245 402.3789,-389.6395\"/>\n<polygon fill=\"#000000\" stroke=\"#000000\" points=\"404.4506,-392.4689 410.9797,-384.1249 400.6723,-386.5761 404.4506,-392.4689\"/>\n<text text-anchor=\"middle\" x=\"397.5\" y=\"-405.8\" font-family=\"Times,serif\" font-size=\"14.00\" fill=\"#000000\">NVE</text>\n</g>\n<!-- 1 -->\n<g id=\"node3\" class=\"node\">\n<title>1</title>\n<text text-anchor=\"middle\" x=\"54\" y=\"-188.3\" font-family=\"Times,serif\" font-size=\"14.00\" fill=\"#000000\">1 (پسران)</text>\n</g>\n<!-- 2 -->\n<g id=\"node4\" class=\"node\">\n<title>2</title>\n<text text-anchor=\"middle\" x=\"51\" y=\"-101.3\" font-family=\"Times,serif\" font-size=\"14.00\" fill=\"#000000\">2 (جوان)</text>\n</g>\n<!-- 1&#45;&gt;2 -->\n<g id=\"edge2\" class=\"edge\">\n<title>1&#45;&gt;2</title>\n<path fill=\"none\" stroke=\"#000000\" d=\"M53.3784,-173.9735C52.9721,-162.1918 52.4331,-146.5607 51.971,-133.1581\"/>\n<polygon fill=\"#000000\" stroke=\"#000000\" points=\"55.4634,-132.8768 51.6208,-123.0034 48.4676,-133.1181 55.4634,-132.8768\"/>\n<text text-anchor=\"middle\" x=\"93.5\" y=\"-144.8\" font-family=\"Times,serif\" font-size=\"14.00\" fill=\"#000000\">NPOSTMOD</text>\n</g>\n<!-- 3 -->\n<g id=\"node5\" class=\"node\">\n<title>3</title>\n<text text-anchor=\"middle\" x=\"161\" y=\"-188.3\" font-family=\"Times,serif\" font-size=\"14.00\" fill=\"#000000\">3 (در)</text>\n</g>\n<!-- 4 -->\n<g id=\"node6\" class=\"node\">\n<title>4</title>\n<text text-anchor=\"middle\" x=\"163\" y=\"-101.3\" font-family=\"Times,serif\" font-size=\"14.00\" fill=\"#000000\">4 (فضای)</text>\n</g>\n<!-- 3&#45;&gt;4 -->\n<g id=\"edge3\" class=\"edge\">\n<title>3&#45;&gt;4</title>\n<path fill=\"none\" stroke=\"#000000\" d=\"M161.4144,-173.9735C161.6852,-162.1918 162.0446,-146.5607 162.3527,-133.1581\"/>\n<polygon fill=\"#000000\" stroke=\"#000000\" points=\"165.8553,-133.0812 162.5861,-123.0034 158.8571,-132.9202 165.8553,-133.0812\"/>\n<text text-anchor=\"middle\" x=\"190.5\" y=\"-144.8\" font-family=\"Times,serif\" font-size=\"14.00\" fill=\"#000000\">POSDEP</text>\n</g>\n<!-- 5 -->\n<g id=\"node7\" class=\"node\">\n<title>5</title>\n<text text-anchor=\"middle\" x=\"111\" y=\"-14.3\" font-family=\"Times,serif\" font-size=\"14.00\" fill=\"#000000\">5 (باز)</text>\n</g>\n<!-- 4&#45;&gt;5 -->\n<g id=\"edge4\" class=\"edge\">\n<title>4&#45;&gt;5</title>\n<path fill=\"none\" stroke=\"#000000\" d=\"M128.7983,-86.8581C122.5042,-81.9226 116.746,-75.9729 113,-69 109.3097,-62.1309 107.9202,-53.9579 107.6857,-46.1891\"/>\n<polygon fill=\"#000000\" stroke=\"#000000\" points=\"111.1895,-46.1016 107.9742,-36.0064 104.1923,-45.9032 111.1895,-46.1016\"/>\n<text text-anchor=\"middle\" x=\"153.5\" y=\"-57.8\" font-family=\"Times,serif\" font-size=\"14.00\" fill=\"#000000\">NPOSTMOD</text>\n</g>\n<!-- 6 -->\n<g id=\"node8\" class=\"node\">\n<title>6</title>\n<text text-anchor=\"middle\" x=\"216\" y=\"-14.3\" font-family=\"Times,serif\" font-size=\"14.00\" fill=\"#000000\">6 (بازی)</text>\n</g>\n<!-- 4&#45;&gt;6 -->\n<g id=\"edge5\" class=\"edge\">\n<title>4&#45;&gt;6</title>\n<path fill=\"none\" stroke=\"#000000\" d=\"M180.5552,-86.7868C185.2841,-81.3298 190.1502,-75.153 194,-69 198.5313,-61.7578 202.5611,-53.4202 205.8938,-45.6128\"/>\n<polygon fill=\"#000000\" stroke=\"#000000\" points=\"209.2245,-46.7122 209.7278,-36.1293 202.7348,-44.0885 209.2245,-46.7122\"/>\n<text text-anchor=\"middle\" x=\"218.5\" y=\"-57.8\" font-family=\"Times,serif\" font-size=\"14.00\" fill=\"#000000\">MOZ</text>\n</g>\n<!-- 7 -->\n<g id=\"node9\" class=\"node\">\n<title>7</title>\n<text text-anchor=\"middle\" x=\"244\" y=\"-188.3\" font-family=\"Times,serif\" font-size=\"14.00\" fill=\"#000000\">7 (می)</text>\n</g>\n<!-- 8 -->\n<g id=\"node10\" class=\"node\">\n<title>8</title>\n<text text-anchor=\"middle\" x=\"161\" y=\"-275.3\" font-family=\"Times,serif\" font-size=\"14.00\" fill=\"#000000\">8 (کنند)</text>\n</g>\n<!-- 8&#45;&gt;1 -->\n<g id=\"edge6\" class=\"edge\">\n<title>8&#45;&gt;1</title>\n<path fill=\"none\" stroke=\"#000000\" d=\"M138.8295,-260.9735C123.0481,-248.1419 101.6511,-230.7443 84.2953,-216.6326\"/>\n<polygon fill=\"#000000\" stroke=\"#000000\" points=\"86.1091,-213.5964 76.1421,-210.0034 81.693,-219.0277 86.1091,-213.5964\"/>\n<text text-anchor=\"middle\" x=\"126\" y=\"-231.8\" font-family=\"Times,serif\" font-size=\"14.00\" fill=\"#000000\">SBJ</text>\n</g>\n<!-- 8&#45;&gt;3 -->\n<g id=\"edge7\" class=\"edge\">\n<title>8&#45;&gt;3</title>\n<path fill=\"none\" stroke=\"#000000\" d=\"M161,-260.9735C161,-249.1918 161,-233.5607 161,-220.1581\"/>\n<polygon fill=\"#000000\" stroke=\"#000000\" points=\"164.5001,-220.0033 161,-210.0034 157.5001,-220.0034 164.5001,-220.0033\"/>\n<text text-anchor=\"middle\" x=\"177\" y=\"-231.8\" font-family=\"Times,serif\" font-size=\"14.00\" fill=\"#000000\">ADV</text>\n</g>\n<!-- 8&#45;&gt;7 -->\n<g id=\"edge8\" class=\"edge\">\n<title>8&#45;&gt;7</title>\n<path fill=\"none\" stroke=\"#000000\" d=\"M179.46,-260.8288C185.1352,-255.1653 191.3685,-248.8661 197,-243 204.8357,-234.838 213.2516,-225.7963 220.766,-217.6206\"/>\n<polygon fill=\"#000000\" stroke=\"#000000\" points=\"223.4758,-219.8439 227.646,-210.1043 218.3123,-215.1176 223.4758,-219.8439\"/>\n<text text-anchor=\"middle\" x=\"226.5\" y=\"-231.8\" font-family=\"Times,serif\" font-size=\"14.00\" fill=\"#000000\">NVE</text>\n</g>\n<!-- 9&#45;&gt;8 -->\n<g id=\"edge9\" class=\"edge\">\n<title>9&#45;&gt;8</title>\n<path fill=\"none\" stroke=\"#000000\" d=\"M161,-347.9735C161,-336.1918 161,-320.5607 161,-307.1581\"/>\n<polygon fill=\"#000000\" stroke=\"#000000\" points=\"164.5001,-307.0033 161,-297.0034 157.5001,-307.0034 164.5001,-307.0033\"/>\n<text text-anchor=\"middle\" x=\"188.5\" y=\"-318.8\" font-family=\"Times,serif\" font-size=\"14.00\" fill=\"#000000\">PREDEP</text>\n</g>\n<!-- 13 -->\n<g id=\"node14\" class=\"node\">\n<title>13</title>\n<text text-anchor=\"middle\" x=\"348\" y=\"-275.3\" font-family=\"Times,serif\" font-size=\"14.00\" fill=\"#000000\">13 (نزدیکی)</text>\n</g>\n<!-- 11&#45;&gt;13 -->\n<g id=\"edge10\" class=\"edge\">\n<title>11&#45;&gt;13</title>\n<path fill=\"none\" stroke=\"#000000\" d=\"M348,-347.9735C348,-336.1918 348,-320.5607 348,-307.1581\"/>\n<polygon fill=\"#000000\" stroke=\"#000000\" points=\"351.5001,-307.0033 348,-297.0034 344.5001,-307.0034 351.5001,-307.0033\"/>\n<text text-anchor=\"middle\" x=\"375.5\" y=\"-318.8\" font-family=\"Times,serif\" font-size=\"14.00\" fill=\"#000000\">POSDEP</text>\n</g>\n<!-- 12 -->\n<g id=\"node15\" class=\"node\">\n<title>12</title>\n<text text-anchor=\"middle\" x=\"347\" y=\"-188.3\" font-family=\"Times,serif\" font-size=\"14.00\" fill=\"#000000\">12 (همان)</text>\n</g>\n<!-- 13&#45;&gt;12 -->\n<g id=\"edge11\" class=\"edge\">\n<title>13&#45;&gt;12</title>\n<path fill=\"none\" stroke=\"#000000\" d=\"M347.7928,-260.9735C347.6574,-249.1918 347.4777,-233.5607 347.3237,-220.1581\"/>\n<polygon fill=\"#000000\" stroke=\"#000000\" points=\"350.8217,-219.9624 347.2069,-210.0034 343.8222,-220.043 350.8217,-219.9624\"/>\n<text text-anchor=\"middle\" x=\"384\" y=\"-231.8\" font-family=\"Times,serif\" font-size=\"14.00\" fill=\"#000000\">NPREMOD</text>\n</g>\n<!-- 14 -->\n<g id=\"node16\" class=\"node\">\n<title>14</title>\n<text text-anchor=\"middle\" x=\"474\" y=\"-188.3\" font-family=\"Times,serif\" font-size=\"14.00\" fill=\"#000000\">14 (لبخند)</text>\n</g>\n<!-- 13&#45;&gt;14 -->\n<g id=\"edge12\" class=\"edge\">\n<title>13&#45;&gt;14</title>\n<path fill=\"none\" stroke=\"#000000\" d=\"M392.8826,-260.9569C403.4965,-255.8317 414.4861,-249.7754 424,-243 434.1553,-235.7678 444.0465,-226.3494 452.3144,-217.5776\"/>\n<polygon fill=\"#000000\" stroke=\"#000000\" points=\"454.9754,-219.8539 459.1281,-210.1068 449.8034,-215.1368 454.9754,-219.8539\"/>\n<text text-anchor=\"middle\" x=\"457.5\" y=\"-231.8\" font-family=\"Times,serif\" font-size=\"14.00\" fill=\"#000000\">MOZ</text>\n</g>\n</g>\n</svg>\n"
          },
          "metadata": {},
          "execution_count": 67
        }
      ]
    },
    {
      "cell_type": "code",
      "execution_count": null,
      "metadata": {
        "colab": {
          "base_uri": "https://localhost:8080/"
        },
        "id": "eJgDNzkxuCf0",
        "outputId": "81d6fa2c-c0d5-42c9-f788-f05390d48661"
      },
      "outputs": [
        {
          "output_type": "stream",
          "name": "stdout",
          "text": [
            "SBJ\n",
            "پسر\n"
          ]
        }
      ],
      "source": [
        "nodes = parser.parse(word_tokenize(normalized_dataFrame[\"sentence1\"][2])).nodes\n",
        "print(nodes[1]['rel'])\n",
        "print(nodes[1]['lemma'])"
      ]
    },
    {
      "cell_type": "markdown",
      "metadata": {
        "id": "uDrs-4hKHfri"
      },
      "source": [
        "example of finding subj\n"
      ]
    },
    {
      "cell_type": "code",
      "execution_count": null,
      "metadata": {
        "colab": {
          "base_uri": "https://localhost:8080/"
        },
        "id": "bXUfHSI1HHIW",
        "outputId": "c8c10f0d-4882-42f1-968c-c412ad32fb72"
      },
      "outputs": [
        {
          "output_type": "stream",
          "name": "stdout",
          "text": [
            "گروه\n",
            "گروهی از بچه ها در حیاط بازی می کنند و پیرمردی در پس زمینه ایستاده است\n"
          ]
        }
      ],
      "source": [
        "print(findSubjectInSntence(normalized_dataFrame[\"sentence1\"][0]))\n",
        "print(normalized_dataFrame[\"sentence1\"][0])"
      ]
    },
    {
      "cell_type": "code",
      "execution_count": null,
      "metadata": {
        "id": "bmL_sq71IG9b"
      },
      "outputs": [],
      "source": [
        "\n",
        "# for i in tqdm(range(3097)):\n",
        "#     df_sbj.at[ i, 'sbj1'] = findSubjectInSntence(normalized_dataFrame[\"sentence1\"][ i])\n",
        "#     df_sbj.at[ i, 'sbj2'] = findSubjectInSntence(normalized_dataFrame[\"sentence2\"][ i])\n",
        "#     df_sbj.to_csv('/content/mydata.csv', index=False)\n",
        "#     !cp /content/mydata.csv /content/drive/MyDrive \n",
        "# df_sbj.to_csv('/content/mydata.csv', index=False)\n",
        "# !cp /content/mydata.csv /content/drive/MyDrive\n"
      ]
    },
    {
      "cell_type": "markdown",
      "metadata": {
        "id": "CMfLGC82PI1l"
      },
      "source": [
        "### downloading data with subject"
      ]
    },
    {
      "cell_type": "code",
      "execution_count": null,
      "metadata": {
        "colab": {
          "base_uri": "https://localhost:8080/",
          "height": 493
        },
        "id": "huODeI5reFoD",
        "outputId": "21b4ec6b-5e66-4588-955a-3a35d30f9f27"
      },
      "outputs": [
        {
          "output_type": "stream",
          "name": "stdout",
          "text": [
            "Downloading...\n",
            "From: https://drive.google.com/uc?id=1UU8b76q_oln3fbNvSGCeacernxsX2Nx1\n",
            "To: /content/mydata.csv\n",
            "\r  0% 0.00/553k [00:00<?, ?B/s]\r100% 553k/553k [00:00<00:00, 121MB/s]\n"
          ]
        },
        {
          "output_type": "execute_result",
          "data": {
            "text/plain": [
              "      score                                          sentence1  \\\n",
              "0       4.0   گروهی از بچه‌ها در حیاط بازی می‌کنند و پیرمرد...   \n",
              "1       3.0   گروهی از کودکان در خانه مشغول بازی هستند و هی...   \n",
              "2       5.0   پسران جوان در فضای باز بازی می‌کنند و مرد در ...   \n",
              "3       3.0   بچه‌ها در بیرون از خانه و در کنار یک مرد با ل...   \n",
              "4       4.0   پسران جوان در فضای باز بازی می‌کنند و مرد در ...   \n",
              "...     ...                                                ...   \n",
              "3092    3.0            سگ سیاه و سفید روی حیاطی سبز نشسته است    \n",
              "3093    5.0              سگ سیاه و سفید در فضای بیرون می‌دوید    \n",
              "3094    4.0          یک زن و مرد در حال پریدن روی حاشیه هستند    \n",
              "3095    3.0   زنی با پیراهن آبی و پاشنه بلند در پیاده رو کن...   \n",
              "3096    4.0      سگی در حال پریدن از زیر سایه برخی درختان است    \n",
              "\n",
              "                                              sentence2  sbj1  sbj2  \\\n",
              "0      گروهی از پسران در حیاط بازی می‌کنند و مردی در...  گروه  گروه   \n",
              "1      گروهی از بچه‌ها در حیاط بازی می‌کنند و پیرمرد...  گروه  گروه   \n",
              "2      بچه‌ها در بیرون از خانه و در کنار یک مرد با ل...   پسر   بچه   \n",
              "3      گروهی از بچه‌ها در حیاط بازی می‌کنند و پیرمرد...   بچه  گروه   \n",
              "4      گروهی از بچه‌ها در حیاط بازی می‌کنند و پیرمرد...   پسر  گروه   \n",
              "...                                                 ...   ...   ...   \n",
              "3092                سگ سیاه و سفید در حیاطی سبز می‌دود     سگ    سگ   \n",
              "3093    یک سگ سیاه و سفید در فضای باز در حال دویدن است     سگ    سگ   \n",
              "3094                 یک زن و مرد روی حاشیه ایستاده‌اند     زن    زن   \n",
              "3095                 یک زن و مرد روی حاشیه ایستاده‌اند     زن    زن   \n",
              "3096                  سگی در حال ساییدن روی درختان است     سگ    سگ   \n",
              "\n",
              "     subject_label  \n",
              "0            other  \n",
              "1            other  \n",
              "2              NaN  \n",
              "3              NaN  \n",
              "4              NaN  \n",
              "...            ...  \n",
              "3092        heyvan  \n",
              "3093        heyvan  \n",
              "3094           zan  \n",
              "3095           zan  \n",
              "3096        heyvan  \n",
              "\n",
              "[3097 rows x 6 columns]"
            ],
            "text/html": [
              "\n",
              "  <div id=\"df-932ddfc3-4836-4f84-b5a0-5d382492ca16\">\n",
              "    <div class=\"colab-df-container\">\n",
              "      <div>\n",
              "<style scoped>\n",
              "    .dataframe tbody tr th:only-of-type {\n",
              "        vertical-align: middle;\n",
              "    }\n",
              "\n",
              "    .dataframe tbody tr th {\n",
              "        vertical-align: top;\n",
              "    }\n",
              "\n",
              "    .dataframe thead th {\n",
              "        text-align: right;\n",
              "    }\n",
              "</style>\n",
              "<table border=\"1\" class=\"dataframe\">\n",
              "  <thead>\n",
              "    <tr style=\"text-align: right;\">\n",
              "      <th></th>\n",
              "      <th>score</th>\n",
              "      <th>sentence1</th>\n",
              "      <th>sentence2</th>\n",
              "      <th>sbj1</th>\n",
              "      <th>sbj2</th>\n",
              "      <th>subject_label</th>\n",
              "    </tr>\n",
              "  </thead>\n",
              "  <tbody>\n",
              "    <tr>\n",
              "      <th>0</th>\n",
              "      <td>4.0</td>\n",
              "      <td>گروهی از بچه‌ها در حیاط بازی می‌کنند و پیرمرد...</td>\n",
              "      <td>گروهی از پسران در حیاط بازی می‌کنند و مردی در...</td>\n",
              "      <td>گروه</td>\n",
              "      <td>گروه</td>\n",
              "      <td>other</td>\n",
              "    </tr>\n",
              "    <tr>\n",
              "      <th>1</th>\n",
              "      <td>3.0</td>\n",
              "      <td>گروهی از کودکان در خانه مشغول بازی هستند و هی...</td>\n",
              "      <td>گروهی از بچه‌ها در حیاط بازی می‌کنند و پیرمرد...</td>\n",
              "      <td>گروه</td>\n",
              "      <td>گروه</td>\n",
              "      <td>other</td>\n",
              "    </tr>\n",
              "    <tr>\n",
              "      <th>2</th>\n",
              "      <td>5.0</td>\n",
              "      <td>پسران جوان در فضای باز بازی می‌کنند و مرد در ...</td>\n",
              "      <td>بچه‌ها در بیرون از خانه و در کنار یک مرد با ل...</td>\n",
              "      <td>پسر</td>\n",
              "      <td>بچه</td>\n",
              "      <td>NaN</td>\n",
              "    </tr>\n",
              "    <tr>\n",
              "      <th>3</th>\n",
              "      <td>3.0</td>\n",
              "      <td>بچه‌ها در بیرون از خانه و در کنار یک مرد با ل...</td>\n",
              "      <td>گروهی از بچه‌ها در حیاط بازی می‌کنند و پیرمرد...</td>\n",
              "      <td>بچه</td>\n",
              "      <td>گروه</td>\n",
              "      <td>NaN</td>\n",
              "    </tr>\n",
              "    <tr>\n",
              "      <th>4</th>\n",
              "      <td>4.0</td>\n",
              "      <td>پسران جوان در فضای باز بازی می‌کنند و مرد در ...</td>\n",
              "      <td>گروهی از بچه‌ها در حیاط بازی می‌کنند و پیرمرد...</td>\n",
              "      <td>پسر</td>\n",
              "      <td>گروه</td>\n",
              "      <td>NaN</td>\n",
              "    </tr>\n",
              "    <tr>\n",
              "      <th>...</th>\n",
              "      <td>...</td>\n",
              "      <td>...</td>\n",
              "      <td>...</td>\n",
              "      <td>...</td>\n",
              "      <td>...</td>\n",
              "      <td>...</td>\n",
              "    </tr>\n",
              "    <tr>\n",
              "      <th>3092</th>\n",
              "      <td>3.0</td>\n",
              "      <td>سگ سیاه و سفید روی حیاطی سبز نشسته است</td>\n",
              "      <td>سگ سیاه و سفید در حیاطی سبز می‌دود</td>\n",
              "      <td>سگ</td>\n",
              "      <td>سگ</td>\n",
              "      <td>heyvan</td>\n",
              "    </tr>\n",
              "    <tr>\n",
              "      <th>3093</th>\n",
              "      <td>5.0</td>\n",
              "      <td>سگ سیاه و سفید در فضای بیرون می‌دوید</td>\n",
              "      <td>یک سگ سیاه و سفید در فضای باز در حال دویدن است</td>\n",
              "      <td>سگ</td>\n",
              "      <td>سگ</td>\n",
              "      <td>heyvan</td>\n",
              "    </tr>\n",
              "    <tr>\n",
              "      <th>3094</th>\n",
              "      <td>4.0</td>\n",
              "      <td>یک زن و مرد در حال پریدن روی حاشیه هستند</td>\n",
              "      <td>یک زن و مرد روی حاشیه ایستاده‌اند</td>\n",
              "      <td>زن</td>\n",
              "      <td>زن</td>\n",
              "      <td>zan</td>\n",
              "    </tr>\n",
              "    <tr>\n",
              "      <th>3095</th>\n",
              "      <td>3.0</td>\n",
              "      <td>زنی با پیراهن آبی و پاشنه بلند در پیاده رو کن...</td>\n",
              "      <td>یک زن و مرد روی حاشیه ایستاده‌اند</td>\n",
              "      <td>زن</td>\n",
              "      <td>زن</td>\n",
              "      <td>zan</td>\n",
              "    </tr>\n",
              "    <tr>\n",
              "      <th>3096</th>\n",
              "      <td>4.0</td>\n",
              "      <td>سگی در حال پریدن از زیر سایه برخی درختان است</td>\n",
              "      <td>سگی در حال ساییدن روی درختان است</td>\n",
              "      <td>سگ</td>\n",
              "      <td>سگ</td>\n",
              "      <td>heyvan</td>\n",
              "    </tr>\n",
              "  </tbody>\n",
              "</table>\n",
              "<p>3097 rows × 6 columns</p>\n",
              "</div>\n",
              "      <button class=\"colab-df-convert\" onclick=\"convertToInteractive('df-932ddfc3-4836-4f84-b5a0-5d382492ca16')\"\n",
              "              title=\"Convert this dataframe to an interactive table.\"\n",
              "              style=\"display:none;\">\n",
              "        \n",
              "  <svg xmlns=\"http://www.w3.org/2000/svg\" height=\"24px\"viewBox=\"0 0 24 24\"\n",
              "       width=\"24px\">\n",
              "    <path d=\"M0 0h24v24H0V0z\" fill=\"none\"/>\n",
              "    <path d=\"M18.56 5.44l.94 2.06.94-2.06 2.06-.94-2.06-.94-.94-2.06-.94 2.06-2.06.94zm-11 1L8.5 8.5l.94-2.06 2.06-.94-2.06-.94L8.5 2.5l-.94 2.06-2.06.94zm10 10l.94 2.06.94-2.06 2.06-.94-2.06-.94-.94-2.06-.94 2.06-2.06.94z\"/><path d=\"M17.41 7.96l-1.37-1.37c-.4-.4-.92-.59-1.43-.59-.52 0-1.04.2-1.43.59L10.3 9.45l-7.72 7.72c-.78.78-.78 2.05 0 2.83L4 21.41c.39.39.9.59 1.41.59.51 0 1.02-.2 1.41-.59l7.78-7.78 2.81-2.81c.8-.78.8-2.07 0-2.86zM5.41 20L4 18.59l7.72-7.72 1.47 1.35L5.41 20z\"/>\n",
              "  </svg>\n",
              "      </button>\n",
              "      \n",
              "  <style>\n",
              "    .colab-df-container {\n",
              "      display:flex;\n",
              "      flex-wrap:wrap;\n",
              "      gap: 12px;\n",
              "    }\n",
              "\n",
              "    .colab-df-convert {\n",
              "      background-color: #E8F0FE;\n",
              "      border: none;\n",
              "      border-radius: 50%;\n",
              "      cursor: pointer;\n",
              "      display: none;\n",
              "      fill: #1967D2;\n",
              "      height: 32px;\n",
              "      padding: 0 0 0 0;\n",
              "      width: 32px;\n",
              "    }\n",
              "\n",
              "    .colab-df-convert:hover {\n",
              "      background-color: #E2EBFA;\n",
              "      box-shadow: 0px 1px 2px rgba(60, 64, 67, 0.3), 0px 1px 3px 1px rgba(60, 64, 67, 0.15);\n",
              "      fill: #174EA6;\n",
              "    }\n",
              "\n",
              "    [theme=dark] .colab-df-convert {\n",
              "      background-color: #3B4455;\n",
              "      fill: #D2E3FC;\n",
              "    }\n",
              "\n",
              "    [theme=dark] .colab-df-convert:hover {\n",
              "      background-color: #434B5C;\n",
              "      box-shadow: 0px 1px 3px 1px rgba(0, 0, 0, 0.15);\n",
              "      filter: drop-shadow(0px 1px 2px rgba(0, 0, 0, 0.3));\n",
              "      fill: #FFFFFF;\n",
              "    }\n",
              "  </style>\n",
              "\n",
              "      <script>\n",
              "        const buttonEl =\n",
              "          document.querySelector('#df-932ddfc3-4836-4f84-b5a0-5d382492ca16 button.colab-df-convert');\n",
              "        buttonEl.style.display =\n",
              "          google.colab.kernel.accessAllowed ? 'block' : 'none';\n",
              "\n",
              "        async function convertToInteractive(key) {\n",
              "          const element = document.querySelector('#df-932ddfc3-4836-4f84-b5a0-5d382492ca16');\n",
              "          const dataTable =\n",
              "            await google.colab.kernel.invokeFunction('convertToInteractive',\n",
              "                                                     [key], {});\n",
              "          if (!dataTable) return;\n",
              "\n",
              "          const docLinkHtml = 'Like what you see? Visit the ' +\n",
              "            '<a target=\"_blank\" href=https://colab.research.google.com/notebooks/data_table.ipynb>data table notebook</a>'\n",
              "            + ' to learn more about interactive tables.';\n",
              "          element.innerHTML = '';\n",
              "          dataTable['output_type'] = 'display_data';\n",
              "          await google.colab.output.renderOutput(dataTable, element);\n",
              "          const docLink = document.createElement('div');\n",
              "          docLink.innerHTML = docLinkHtml;\n",
              "          element.appendChild(docLink);\n",
              "        }\n",
              "      </script>\n",
              "    </div>\n",
              "  </div>\n",
              "  "
            ]
          },
          "metadata": {},
          "execution_count": 70
        }
      ],
      "source": [
        "!gdown 1UU8b76q_oln3fbNvSGCeacernxsX2Nx1\n",
        "df_sbj = pd.read_csv('/content/mydata.csv')\n",
        "df_sbj['score']=df['score']\n",
        "df_sbj\n"
      ]
    },
    {
      "cell_type": "code",
      "source": [
        "# df_sbj.to_csv('/content/mydata.csv', index=False)"
      ],
      "metadata": {
        "id": "-VTrw7_JayV5"
      },
      "execution_count": null,
      "outputs": []
    },
    {
      "cell_type": "markdown",
      "metadata": {
        "id": "zsCI0nnokR9P"
      },
      "source": [
        "### classification"
      ]
    },
    {
      "cell_type": "code",
      "source": [
        "print (my_dict.items())"
      ],
      "metadata": {
        "colab": {
          "base_uri": "https://localhost:8080/"
        },
        "id": "UmQyG6JWBm89",
        "outputId": "d81a73e3-4c26-468c-9b8f-7740cd6c92ad"
      },
      "execution_count": null,
      "outputs": [
        {
          "output_type": "stream",
          "name": "stdout",
          "text": [
            "dict_items([('other', ['نفر', 'تماشاگر', 'افراد', 'مردمی', 'برخی', 'شخص', 'گروه', 'جمعیت', 'انسان', 'بازیکن', 'فوتبالیست']), ('zan', ['زن', 'خانم', 'دختر', 'پیرزن', 'بانو', 'عروس', 'مادر', 'ماده']), ('mard', ['مرد', 'آقا', 'پسر', 'پدر', 'پیرمرد', 'نر']), ('koodak', ['کودک', 'بچه', 'فرزند', 'نوزاد']), ('heyvan', ['حیوان', 'آهو', 'سگ', 'گربه', 'گوزن', 'گاو', 'اسب', 'لاک', 'لاک\\u200c\\u200cپشت', 'ماهی', 'میگو', 'میمون', 'توله', 'گورکن', 'حیوانات', 'شیر', 'طوطی', 'موش', 'مار', 'قورباغه', 'فیل', 'یوزپلنگ', 'شامپانزه', 'تمساح', 'ببر', 'خوکچه', 'گله', 'دشوند'])])\n"
          ]
        }
      ]
    },
    {
      "cell_type": "code",
      "execution_count": null,
      "metadata": {
        "id": "_yZpQlupM_60"
      },
      "outputs": [],
      "source": [
        "my_dict=stemAndNormlizeDic(my_dict)"
      ]
    },
    {
      "cell_type": "markdown",
      "source": [
        "### subject classification"
      ],
      "metadata": {
        "id": "sScVgpqlvnoF"
      }
    },
    {
      "cell_type": "code",
      "execution_count": null,
      "metadata": {
        "colab": {
          "base_uri": "https://localhost:8080/",
          "height": 424
        },
        "id": "eTk-Pi25B6vT",
        "outputId": "3bc581fc-c76b-4045-b997-8a7d086d1ceb"
      },
      "outputs": [
        {
          "output_type": "execute_result",
          "data": {
            "text/plain": [
              "      score                                          sentence1  \\\n",
              "0       4.0   گروهی از بچه‌ها در حیاط بازی می‌کنند و پیرمرد...   \n",
              "1       3.0   گروهی از کودکان در خانه مشغول بازی هستند و هی...   \n",
              "2       5.0   پسران جوان در فضای باز بازی می‌کنند و مرد در ...   \n",
              "3       3.0   بچه‌ها در بیرون از خانه و در کنار یک مرد با ل...   \n",
              "4       4.0   پسران جوان در فضای باز بازی می‌کنند و مرد در ...   \n",
              "...     ...                                                ...   \n",
              "3092    3.0            سگ سیاه و سفید روی حیاطی سبز نشسته است    \n",
              "3093    5.0              سگ سیاه و سفید در فضای بیرون می‌دوید    \n",
              "3094    4.0          یک زن و مرد در حال پریدن روی حاشیه هستند    \n",
              "3095    3.0   زنی با پیراهن آبی و پاشنه بلند در پیاده رو کن...   \n",
              "3096    4.0      سگی در حال پریدن از زیر سایه برخی درختان است    \n",
              "\n",
              "                                              sentence2  sbj1  sbj2  \\\n",
              "0      گروهی از پسران در حیاط بازی می‌کنند و مردی در...  گروه  گروه   \n",
              "1      گروهی از بچه‌ها در حیاط بازی می‌کنند و پیرمرد...  گروه  گروه   \n",
              "2      بچه‌ها در بیرون از خانه و در کنار یک مرد با ل...   پسر   بچه   \n",
              "3      گروهی از بچه‌ها در حیاط بازی می‌کنند و پیرمرد...   بچه  گروه   \n",
              "4      گروهی از بچه‌ها در حیاط بازی می‌کنند و پیرمرد...   پسر  گروه   \n",
              "...                                                 ...   ...   ...   \n",
              "3092                سگ سیاه و سفید در حیاطی سبز می‌دود     سگ    سگ   \n",
              "3093    یک سگ سیاه و سفید در فضای باز در حال دویدن است     سگ    سگ   \n",
              "3094                 یک زن و مرد روی حاشیه ایستاده‌اند     زن    زن   \n",
              "3095                 یک زن و مرد روی حاشیه ایستاده‌اند     زن    زن   \n",
              "3096                  سگی در حال ساییدن روی درختان است     سگ    سگ   \n",
              "\n",
              "     subject_label  \n",
              "0            other  \n",
              "1            other  \n",
              "2              N/A  \n",
              "3              N/A  \n",
              "4              N/A  \n",
              "...            ...  \n",
              "3092        heyvan  \n",
              "3093        heyvan  \n",
              "3094           zan  \n",
              "3095           zan  \n",
              "3096        heyvan  \n",
              "\n",
              "[3097 rows x 6 columns]"
            ],
            "text/html": [
              "\n",
              "  <div id=\"df-e6e0b9fe-d798-4a54-9537-002073963500\">\n",
              "    <div class=\"colab-df-container\">\n",
              "      <div>\n",
              "<style scoped>\n",
              "    .dataframe tbody tr th:only-of-type {\n",
              "        vertical-align: middle;\n",
              "    }\n",
              "\n",
              "    .dataframe tbody tr th {\n",
              "        vertical-align: top;\n",
              "    }\n",
              "\n",
              "    .dataframe thead th {\n",
              "        text-align: right;\n",
              "    }\n",
              "</style>\n",
              "<table border=\"1\" class=\"dataframe\">\n",
              "  <thead>\n",
              "    <tr style=\"text-align: right;\">\n",
              "      <th></th>\n",
              "      <th>score</th>\n",
              "      <th>sentence1</th>\n",
              "      <th>sentence2</th>\n",
              "      <th>sbj1</th>\n",
              "      <th>sbj2</th>\n",
              "      <th>subject_label</th>\n",
              "    </tr>\n",
              "  </thead>\n",
              "  <tbody>\n",
              "    <tr>\n",
              "      <th>0</th>\n",
              "      <td>4.0</td>\n",
              "      <td>گروهی از بچه‌ها در حیاط بازی می‌کنند و پیرمرد...</td>\n",
              "      <td>گروهی از پسران در حیاط بازی می‌کنند و مردی در...</td>\n",
              "      <td>گروه</td>\n",
              "      <td>گروه</td>\n",
              "      <td>other</td>\n",
              "    </tr>\n",
              "    <tr>\n",
              "      <th>1</th>\n",
              "      <td>3.0</td>\n",
              "      <td>گروهی از کودکان در خانه مشغول بازی هستند و هی...</td>\n",
              "      <td>گروهی از بچه‌ها در حیاط بازی می‌کنند و پیرمرد...</td>\n",
              "      <td>گروه</td>\n",
              "      <td>گروه</td>\n",
              "      <td>other</td>\n",
              "    </tr>\n",
              "    <tr>\n",
              "      <th>2</th>\n",
              "      <td>5.0</td>\n",
              "      <td>پسران جوان در فضای باز بازی می‌کنند و مرد در ...</td>\n",
              "      <td>بچه‌ها در بیرون از خانه و در کنار یک مرد با ل...</td>\n",
              "      <td>پسر</td>\n",
              "      <td>بچه</td>\n",
              "      <td>N/A</td>\n",
              "    </tr>\n",
              "    <tr>\n",
              "      <th>3</th>\n",
              "      <td>3.0</td>\n",
              "      <td>بچه‌ها در بیرون از خانه و در کنار یک مرد با ل...</td>\n",
              "      <td>گروهی از بچه‌ها در حیاط بازی می‌کنند و پیرمرد...</td>\n",
              "      <td>بچه</td>\n",
              "      <td>گروه</td>\n",
              "      <td>N/A</td>\n",
              "    </tr>\n",
              "    <tr>\n",
              "      <th>4</th>\n",
              "      <td>4.0</td>\n",
              "      <td>پسران جوان در فضای باز بازی می‌کنند و مرد در ...</td>\n",
              "      <td>گروهی از بچه‌ها در حیاط بازی می‌کنند و پیرمرد...</td>\n",
              "      <td>پسر</td>\n",
              "      <td>گروه</td>\n",
              "      <td>N/A</td>\n",
              "    </tr>\n",
              "    <tr>\n",
              "      <th>...</th>\n",
              "      <td>...</td>\n",
              "      <td>...</td>\n",
              "      <td>...</td>\n",
              "      <td>...</td>\n",
              "      <td>...</td>\n",
              "      <td>...</td>\n",
              "    </tr>\n",
              "    <tr>\n",
              "      <th>3092</th>\n",
              "      <td>3.0</td>\n",
              "      <td>سگ سیاه و سفید روی حیاطی سبز نشسته است</td>\n",
              "      <td>سگ سیاه و سفید در حیاطی سبز می‌دود</td>\n",
              "      <td>سگ</td>\n",
              "      <td>سگ</td>\n",
              "      <td>heyvan</td>\n",
              "    </tr>\n",
              "    <tr>\n",
              "      <th>3093</th>\n",
              "      <td>5.0</td>\n",
              "      <td>سگ سیاه و سفید در فضای بیرون می‌دوید</td>\n",
              "      <td>یک سگ سیاه و سفید در فضای باز در حال دویدن است</td>\n",
              "      <td>سگ</td>\n",
              "      <td>سگ</td>\n",
              "      <td>heyvan</td>\n",
              "    </tr>\n",
              "    <tr>\n",
              "      <th>3094</th>\n",
              "      <td>4.0</td>\n",
              "      <td>یک زن و مرد در حال پریدن روی حاشیه هستند</td>\n",
              "      <td>یک زن و مرد روی حاشیه ایستاده‌اند</td>\n",
              "      <td>زن</td>\n",
              "      <td>زن</td>\n",
              "      <td>zan</td>\n",
              "    </tr>\n",
              "    <tr>\n",
              "      <th>3095</th>\n",
              "      <td>3.0</td>\n",
              "      <td>زنی با پیراهن آبی و پاشنه بلند در پیاده رو کن...</td>\n",
              "      <td>یک زن و مرد روی حاشیه ایستاده‌اند</td>\n",
              "      <td>زن</td>\n",
              "      <td>زن</td>\n",
              "      <td>zan</td>\n",
              "    </tr>\n",
              "    <tr>\n",
              "      <th>3096</th>\n",
              "      <td>4.0</td>\n",
              "      <td>سگی در حال پریدن از زیر سایه برخی درختان است</td>\n",
              "      <td>سگی در حال ساییدن روی درختان است</td>\n",
              "      <td>سگ</td>\n",
              "      <td>سگ</td>\n",
              "      <td>heyvan</td>\n",
              "    </tr>\n",
              "  </tbody>\n",
              "</table>\n",
              "<p>3097 rows × 6 columns</p>\n",
              "</div>\n",
              "      <button class=\"colab-df-convert\" onclick=\"convertToInteractive('df-e6e0b9fe-d798-4a54-9537-002073963500')\"\n",
              "              title=\"Convert this dataframe to an interactive table.\"\n",
              "              style=\"display:none;\">\n",
              "        \n",
              "  <svg xmlns=\"http://www.w3.org/2000/svg\" height=\"24px\"viewBox=\"0 0 24 24\"\n",
              "       width=\"24px\">\n",
              "    <path d=\"M0 0h24v24H0V0z\" fill=\"none\"/>\n",
              "    <path d=\"M18.56 5.44l.94 2.06.94-2.06 2.06-.94-2.06-.94-.94-2.06-.94 2.06-2.06.94zm-11 1L8.5 8.5l.94-2.06 2.06-.94-2.06-.94L8.5 2.5l-.94 2.06-2.06.94zm10 10l.94 2.06.94-2.06 2.06-.94-2.06-.94-.94-2.06-.94 2.06-2.06.94z\"/><path d=\"M17.41 7.96l-1.37-1.37c-.4-.4-.92-.59-1.43-.59-.52 0-1.04.2-1.43.59L10.3 9.45l-7.72 7.72c-.78.78-.78 2.05 0 2.83L4 21.41c.39.39.9.59 1.41.59.51 0 1.02-.2 1.41-.59l7.78-7.78 2.81-2.81c.8-.78.8-2.07 0-2.86zM5.41 20L4 18.59l7.72-7.72 1.47 1.35L5.41 20z\"/>\n",
              "  </svg>\n",
              "      </button>\n",
              "      \n",
              "  <style>\n",
              "    .colab-df-container {\n",
              "      display:flex;\n",
              "      flex-wrap:wrap;\n",
              "      gap: 12px;\n",
              "    }\n",
              "\n",
              "    .colab-df-convert {\n",
              "      background-color: #E8F0FE;\n",
              "      border: none;\n",
              "      border-radius: 50%;\n",
              "      cursor: pointer;\n",
              "      display: none;\n",
              "      fill: #1967D2;\n",
              "      height: 32px;\n",
              "      padding: 0 0 0 0;\n",
              "      width: 32px;\n",
              "    }\n",
              "\n",
              "    .colab-df-convert:hover {\n",
              "      background-color: #E2EBFA;\n",
              "      box-shadow: 0px 1px 2px rgba(60, 64, 67, 0.3), 0px 1px 3px 1px rgba(60, 64, 67, 0.15);\n",
              "      fill: #174EA6;\n",
              "    }\n",
              "\n",
              "    [theme=dark] .colab-df-convert {\n",
              "      background-color: #3B4455;\n",
              "      fill: #D2E3FC;\n",
              "    }\n",
              "\n",
              "    [theme=dark] .colab-df-convert:hover {\n",
              "      background-color: #434B5C;\n",
              "      box-shadow: 0px 1px 3px 1px rgba(0, 0, 0, 0.15);\n",
              "      filter: drop-shadow(0px 1px 2px rgba(0, 0, 0, 0.3));\n",
              "      fill: #FFFFFF;\n",
              "    }\n",
              "  </style>\n",
              "\n",
              "      <script>\n",
              "        const buttonEl =\n",
              "          document.querySelector('#df-e6e0b9fe-d798-4a54-9537-002073963500 button.colab-df-convert');\n",
              "        buttonEl.style.display =\n",
              "          google.colab.kernel.accessAllowed ? 'block' : 'none';\n",
              "\n",
              "        async function convertToInteractive(key) {\n",
              "          const element = document.querySelector('#df-e6e0b9fe-d798-4a54-9537-002073963500');\n",
              "          const dataTable =\n",
              "            await google.colab.kernel.invokeFunction('convertToInteractive',\n",
              "                                                     [key], {});\n",
              "          if (!dataTable) return;\n",
              "\n",
              "          const docLinkHtml = 'Like what you see? Visit the ' +\n",
              "            '<a target=\"_blank\" href=https://colab.research.google.com/notebooks/data_table.ipynb>data table notebook</a>'\n",
              "            + ' to learn more about interactive tables.';\n",
              "          element.innerHTML = '';\n",
              "          dataTable['output_type'] = 'display_data';\n",
              "          await google.colab.output.renderOutput(dataTable, element);\n",
              "          const docLink = document.createElement('div');\n",
              "          docLink.innerHTML = docLinkHtml;\n",
              "          element.appendChild(docLink);\n",
              "        }\n",
              "      </script>\n",
              "    </div>\n",
              "  </div>\n",
              "  "
            ]
          },
          "metadata": {},
          "execution_count": 73
        }
      ],
      "source": [
        "df_sbj[\"subject_label\"] = \"N/A\"\n",
        "sentence1subj=df_sbj[\"sbj1\"]\n",
        "sentence2subj=df_sbj[\"sbj2\"]\n",
        "for i in df_sbj.index:\n",
        "  subject1 = sentence1subj[i]\n",
        "  subject2 = sentence2subj[i]\n",
        "  for key in my_dict:\n",
        "    if subject1 in my_dict[key] and  subject2 in my_dict[key]:\n",
        "      df_sbj.at[i, \"subject_label\"] = key\n",
        "              \n",
        "df_sbj"
      ]
    },
    {
      "cell_type": "markdown",
      "metadata": {
        "id": "BfzkzOY8Yd-_"
      },
      "source": [
        ""
      ]
    },
    {
      "cell_type": "code",
      "source": [
        "# labeling the scores 1 to 5\n",
        "df['score'] = df['score'].replace(1.0, \"1\")\n",
        "df['score'] = df['score'].replace(2.0, \"2\")\n",
        "df['score'] = df['score'].replace(3.0, \"3\")\n",
        "df['score'] = df['score'].replace(4.0, \"4\")\n",
        "df['score'] = df['score'].replace(5.0, \"5\")\n",
        "df_sbj['score']=df['score']\n",
        "\n",
        "df_encoded = df_sbj.copy()\n",
        "df_encoded[['score']] = df_sbj[['score']].apply(labelEncoder.fit_transform, axis=0)\n",
        "df_encoded  \n",
        "\n",
        "df_encoded[\"subject_label\"] = df_encoded[\"subject_label\"].replace(\"mard\",0)\n",
        "df_encoded[\"subject_label\"] = df_encoded[\"subject_label\"].replace(\"zan\",1)\n",
        "df_encoded[\"subject_label\"] = df_encoded[\"subject_label\"].replace(\"koodak\",2)\n",
        "df_encoded[\"subject_label\"] = df_encoded[\"subject_label\"].replace(\"heyvan\",3)\n",
        "df_encoded[\"subject_label\"] = df_encoded[\"subject_label\"].replace(\"other\",4)\n",
        "df_encoded[\"subject_label\"] = df_encoded[\"subject_label\"].replace(\"N/A\",5)\n",
        "\n",
        "df_encoded"
      ],
      "metadata": {
        "colab": {
          "base_uri": "https://localhost:8080/",
          "height": 424
        },
        "id": "17XvPCcdX-kX",
        "outputId": "21157948-d59b-4341-9fca-10a83f30bdfe"
      },
      "execution_count": null,
      "outputs": [
        {
          "output_type": "execute_result",
          "data": {
            "text/plain": [
              "      score                                          sentence1  \\\n",
              "0         3   گروهی از بچه‌ها در حیاط بازی می‌کنند و پیرمرد...   \n",
              "1         2   گروهی از کودکان در خانه مشغول بازی هستند و هی...   \n",
              "2         4   پسران جوان در فضای باز بازی می‌کنند و مرد در ...   \n",
              "3         2   بچه‌ها در بیرون از خانه و در کنار یک مرد با ل...   \n",
              "4         3   پسران جوان در فضای باز بازی می‌کنند و مرد در ...   \n",
              "...     ...                                                ...   \n",
              "3092      2            سگ سیاه و سفید روی حیاطی سبز نشسته است    \n",
              "3093      4              سگ سیاه و سفید در فضای بیرون می‌دوید    \n",
              "3094      3          یک زن و مرد در حال پریدن روی حاشیه هستند    \n",
              "3095      2   زنی با پیراهن آبی و پاشنه بلند در پیاده رو کن...   \n",
              "3096      3      سگی در حال پریدن از زیر سایه برخی درختان است    \n",
              "\n",
              "                                              sentence2  sbj1  sbj2  \\\n",
              "0      گروهی از پسران در حیاط بازی می‌کنند و مردی در...  گروه  گروه   \n",
              "1      گروهی از بچه‌ها در حیاط بازی می‌کنند و پیرمرد...  گروه  گروه   \n",
              "2      بچه‌ها در بیرون از خانه و در کنار یک مرد با ل...   پسر   بچه   \n",
              "3      گروهی از بچه‌ها در حیاط بازی می‌کنند و پیرمرد...   بچه  گروه   \n",
              "4      گروهی از بچه‌ها در حیاط بازی می‌کنند و پیرمرد...   پسر  گروه   \n",
              "...                                                 ...   ...   ...   \n",
              "3092                سگ سیاه و سفید در حیاطی سبز می‌دود     سگ    سگ   \n",
              "3093    یک سگ سیاه و سفید در فضای باز در حال دویدن است     سگ    سگ   \n",
              "3094                 یک زن و مرد روی حاشیه ایستاده‌اند     زن    زن   \n",
              "3095                 یک زن و مرد روی حاشیه ایستاده‌اند     زن    زن   \n",
              "3096                  سگی در حال ساییدن روی درختان است     سگ    سگ   \n",
              "\n",
              "      subject_label  \n",
              "0                 4  \n",
              "1                 4  \n",
              "2                 5  \n",
              "3                 5  \n",
              "4                 5  \n",
              "...             ...  \n",
              "3092              3  \n",
              "3093              3  \n",
              "3094              1  \n",
              "3095              1  \n",
              "3096              3  \n",
              "\n",
              "[3097 rows x 6 columns]"
            ],
            "text/html": [
              "\n",
              "  <div id=\"df-e11a3a0f-0b13-49c4-a1e4-386079ced5f1\">\n",
              "    <div class=\"colab-df-container\">\n",
              "      <div>\n",
              "<style scoped>\n",
              "    .dataframe tbody tr th:only-of-type {\n",
              "        vertical-align: middle;\n",
              "    }\n",
              "\n",
              "    .dataframe tbody tr th {\n",
              "        vertical-align: top;\n",
              "    }\n",
              "\n",
              "    .dataframe thead th {\n",
              "        text-align: right;\n",
              "    }\n",
              "</style>\n",
              "<table border=\"1\" class=\"dataframe\">\n",
              "  <thead>\n",
              "    <tr style=\"text-align: right;\">\n",
              "      <th></th>\n",
              "      <th>score</th>\n",
              "      <th>sentence1</th>\n",
              "      <th>sentence2</th>\n",
              "      <th>sbj1</th>\n",
              "      <th>sbj2</th>\n",
              "      <th>subject_label</th>\n",
              "    </tr>\n",
              "  </thead>\n",
              "  <tbody>\n",
              "    <tr>\n",
              "      <th>0</th>\n",
              "      <td>3</td>\n",
              "      <td>گروهی از بچه‌ها در حیاط بازی می‌کنند و پیرمرد...</td>\n",
              "      <td>گروهی از پسران در حیاط بازی می‌کنند و مردی در...</td>\n",
              "      <td>گروه</td>\n",
              "      <td>گروه</td>\n",
              "      <td>4</td>\n",
              "    </tr>\n",
              "    <tr>\n",
              "      <th>1</th>\n",
              "      <td>2</td>\n",
              "      <td>گروهی از کودکان در خانه مشغول بازی هستند و هی...</td>\n",
              "      <td>گروهی از بچه‌ها در حیاط بازی می‌کنند و پیرمرد...</td>\n",
              "      <td>گروه</td>\n",
              "      <td>گروه</td>\n",
              "      <td>4</td>\n",
              "    </tr>\n",
              "    <tr>\n",
              "      <th>2</th>\n",
              "      <td>4</td>\n",
              "      <td>پسران جوان در فضای باز بازی می‌کنند و مرد در ...</td>\n",
              "      <td>بچه‌ها در بیرون از خانه و در کنار یک مرد با ل...</td>\n",
              "      <td>پسر</td>\n",
              "      <td>بچه</td>\n",
              "      <td>5</td>\n",
              "    </tr>\n",
              "    <tr>\n",
              "      <th>3</th>\n",
              "      <td>2</td>\n",
              "      <td>بچه‌ها در بیرون از خانه و در کنار یک مرد با ل...</td>\n",
              "      <td>گروهی از بچه‌ها در حیاط بازی می‌کنند و پیرمرد...</td>\n",
              "      <td>بچه</td>\n",
              "      <td>گروه</td>\n",
              "      <td>5</td>\n",
              "    </tr>\n",
              "    <tr>\n",
              "      <th>4</th>\n",
              "      <td>3</td>\n",
              "      <td>پسران جوان در فضای باز بازی می‌کنند و مرد در ...</td>\n",
              "      <td>گروهی از بچه‌ها در حیاط بازی می‌کنند و پیرمرد...</td>\n",
              "      <td>پسر</td>\n",
              "      <td>گروه</td>\n",
              "      <td>5</td>\n",
              "    </tr>\n",
              "    <tr>\n",
              "      <th>...</th>\n",
              "      <td>...</td>\n",
              "      <td>...</td>\n",
              "      <td>...</td>\n",
              "      <td>...</td>\n",
              "      <td>...</td>\n",
              "      <td>...</td>\n",
              "    </tr>\n",
              "    <tr>\n",
              "      <th>3092</th>\n",
              "      <td>2</td>\n",
              "      <td>سگ سیاه و سفید روی حیاطی سبز نشسته است</td>\n",
              "      <td>سگ سیاه و سفید در حیاطی سبز می‌دود</td>\n",
              "      <td>سگ</td>\n",
              "      <td>سگ</td>\n",
              "      <td>3</td>\n",
              "    </tr>\n",
              "    <tr>\n",
              "      <th>3093</th>\n",
              "      <td>4</td>\n",
              "      <td>سگ سیاه و سفید در فضای بیرون می‌دوید</td>\n",
              "      <td>یک سگ سیاه و سفید در فضای باز در حال دویدن است</td>\n",
              "      <td>سگ</td>\n",
              "      <td>سگ</td>\n",
              "      <td>3</td>\n",
              "    </tr>\n",
              "    <tr>\n",
              "      <th>3094</th>\n",
              "      <td>3</td>\n",
              "      <td>یک زن و مرد در حال پریدن روی حاشیه هستند</td>\n",
              "      <td>یک زن و مرد روی حاشیه ایستاده‌اند</td>\n",
              "      <td>زن</td>\n",
              "      <td>زن</td>\n",
              "      <td>1</td>\n",
              "    </tr>\n",
              "    <tr>\n",
              "      <th>3095</th>\n",
              "      <td>2</td>\n",
              "      <td>زنی با پیراهن آبی و پاشنه بلند در پیاده رو کن...</td>\n",
              "      <td>یک زن و مرد روی حاشیه ایستاده‌اند</td>\n",
              "      <td>زن</td>\n",
              "      <td>زن</td>\n",
              "      <td>1</td>\n",
              "    </tr>\n",
              "    <tr>\n",
              "      <th>3096</th>\n",
              "      <td>3</td>\n",
              "      <td>سگی در حال پریدن از زیر سایه برخی درختان است</td>\n",
              "      <td>سگی در حال ساییدن روی درختان است</td>\n",
              "      <td>سگ</td>\n",
              "      <td>سگ</td>\n",
              "      <td>3</td>\n",
              "    </tr>\n",
              "  </tbody>\n",
              "</table>\n",
              "<p>3097 rows × 6 columns</p>\n",
              "</div>\n",
              "      <button class=\"colab-df-convert\" onclick=\"convertToInteractive('df-e11a3a0f-0b13-49c4-a1e4-386079ced5f1')\"\n",
              "              title=\"Convert this dataframe to an interactive table.\"\n",
              "              style=\"display:none;\">\n",
              "        \n",
              "  <svg xmlns=\"http://www.w3.org/2000/svg\" height=\"24px\"viewBox=\"0 0 24 24\"\n",
              "       width=\"24px\">\n",
              "    <path d=\"M0 0h24v24H0V0z\" fill=\"none\"/>\n",
              "    <path d=\"M18.56 5.44l.94 2.06.94-2.06 2.06-.94-2.06-.94-.94-2.06-.94 2.06-2.06.94zm-11 1L8.5 8.5l.94-2.06 2.06-.94-2.06-.94L8.5 2.5l-.94 2.06-2.06.94zm10 10l.94 2.06.94-2.06 2.06-.94-2.06-.94-.94-2.06-.94 2.06-2.06.94z\"/><path d=\"M17.41 7.96l-1.37-1.37c-.4-.4-.92-.59-1.43-.59-.52 0-1.04.2-1.43.59L10.3 9.45l-7.72 7.72c-.78.78-.78 2.05 0 2.83L4 21.41c.39.39.9.59 1.41.59.51 0 1.02-.2 1.41-.59l7.78-7.78 2.81-2.81c.8-.78.8-2.07 0-2.86zM5.41 20L4 18.59l7.72-7.72 1.47 1.35L5.41 20z\"/>\n",
              "  </svg>\n",
              "      </button>\n",
              "      \n",
              "  <style>\n",
              "    .colab-df-container {\n",
              "      display:flex;\n",
              "      flex-wrap:wrap;\n",
              "      gap: 12px;\n",
              "    }\n",
              "\n",
              "    .colab-df-convert {\n",
              "      background-color: #E8F0FE;\n",
              "      border: none;\n",
              "      border-radius: 50%;\n",
              "      cursor: pointer;\n",
              "      display: none;\n",
              "      fill: #1967D2;\n",
              "      height: 32px;\n",
              "      padding: 0 0 0 0;\n",
              "      width: 32px;\n",
              "    }\n",
              "\n",
              "    .colab-df-convert:hover {\n",
              "      background-color: #E2EBFA;\n",
              "      box-shadow: 0px 1px 2px rgba(60, 64, 67, 0.3), 0px 1px 3px 1px rgba(60, 64, 67, 0.15);\n",
              "      fill: #174EA6;\n",
              "    }\n",
              "\n",
              "    [theme=dark] .colab-df-convert {\n",
              "      background-color: #3B4455;\n",
              "      fill: #D2E3FC;\n",
              "    }\n",
              "\n",
              "    [theme=dark] .colab-df-convert:hover {\n",
              "      background-color: #434B5C;\n",
              "      box-shadow: 0px 1px 3px 1px rgba(0, 0, 0, 0.15);\n",
              "      filter: drop-shadow(0px 1px 2px rgba(0, 0, 0, 0.3));\n",
              "      fill: #FFFFFF;\n",
              "    }\n",
              "  </style>\n",
              "\n",
              "      <script>\n",
              "        const buttonEl =\n",
              "          document.querySelector('#df-e11a3a0f-0b13-49c4-a1e4-386079ced5f1 button.colab-df-convert');\n",
              "        buttonEl.style.display =\n",
              "          google.colab.kernel.accessAllowed ? 'block' : 'none';\n",
              "\n",
              "        async function convertToInteractive(key) {\n",
              "          const element = document.querySelector('#df-e11a3a0f-0b13-49c4-a1e4-386079ced5f1');\n",
              "          const dataTable =\n",
              "            await google.colab.kernel.invokeFunction('convertToInteractive',\n",
              "                                                     [key], {});\n",
              "          if (!dataTable) return;\n",
              "\n",
              "          const docLinkHtml = 'Like what you see? Visit the ' +\n",
              "            '<a target=\"_blank\" href=https://colab.research.google.com/notebooks/data_table.ipynb>data table notebook</a>'\n",
              "            + ' to learn more about interactive tables.';\n",
              "          element.innerHTML = '';\n",
              "          dataTable['output_type'] = 'display_data';\n",
              "          await google.colab.output.renderOutput(dataTable, element);\n",
              "          const docLink = document.createElement('div');\n",
              "          docLink.innerHTML = docLinkHtml;\n",
              "          element.appendChild(docLink);\n",
              "        }\n",
              "      </script>\n",
              "    </div>\n",
              "  </div>\n",
              "  "
            ]
          },
          "metadata": {},
          "execution_count": 74
        }
      ]
    },
    {
      "cell_type": "code",
      "execution_count": null,
      "metadata": {
        "id": "4vj_J1kQWTVi"
      },
      "outputs": [],
      "source": [
        "\n",
        "tk = Tokenizer(\n",
        "    num_words=1000,\n",
        "    filters='\\u200c!\"#$%&()*+,-./:;<=>?@[\\\\]^_`{|}~\\t\\n،ًٌٍَُِ',\n",
        "    split=' ',\n",
        "    oov_token='UNK'\n",
        ")\n",
        "tk.fit_on_texts(sentence1+sentence2)\n"
      ]
    },
    {
      "cell_type": "code",
      "execution_count": null,
      "metadata": {
        "colab": {
          "base_uri": "https://localhost:8080/"
        },
        "id": "r4ZdPjImYhGM",
        "outputId": "d9e06199-1d97-42f2-9aca-3ee83867d48b"
      },
      "outputs": [
        {
          "output_type": "stream",
          "name": "stdout",
          "text": [
            "گروهی از کودکان در خانه مشغول بازی هستند و هیچ مردی در پس زمینه ایستاده نیست\n",
            "پسران جوان در فضای باز بازی می کنند و مرد در همان نزدیکی لبخند می زند\n",
            "بچه ها در بیرون از خانه و در کنار یک مرد با لبخند بازی می کنند\n",
            "[86, 10, 264, 2, 282, 121, 21, 23, 7, 24, 9, 2, 274, 304, 28, 99]\n",
            "[265, 92, 2, 164, 101, 21, 6, 31, 7, 14, 2, 525, 226, 373, 6, 40]\n",
            "[53, 34, 2, 77, 10, 282, 7, 2, 50, 4, 14, 8, 373, 21, 6, 31]\n"
          ]
        }
      ],
      "source": [
        "X1_toIndex = tk.texts_to_sequences(sentence1)\n",
        "X2_toIndex =tk.texts_to_sequences(sentence2)\n",
        "\n",
        "print(sentence1[1])\n",
        "print(sentence1[2])\n",
        "print(sentence1[3])\n",
        "\n",
        "print(X1_toIndex[1])\n",
        "print(X1_toIndex[2])\n",
        "print(X1_toIndex[3])"
      ]
    },
    {
      "cell_type": "markdown",
      "metadata": {
        "id": "fGx4GmSNzBzo"
      },
      "source": [
        ""
      ]
    },
    {
      "cell_type": "code",
      "execution_count": null,
      "metadata": {
        "colab": {
          "base_uri": "https://localhost:8080/",
          "height": 424
        },
        "id": "NERFaLjzSJy3",
        "outputId": "ec3dc276-8469-4039-9e2a-1f66dff32648"
      },
      "outputs": [
        {
          "output_type": "execute_result",
          "data": {
            "text/plain": [
              "     score                                          sentence1  \\\n",
              "0        4   گروهی از بچه‌ها در حیاط بازی می‌کنند و پیرمرد...   \n",
              "1        3   گروهی از کودکان در خانه مشغول بازی هستند و هی...   \n",
              "2        5   پسران جوان در فضای باز بازی می‌کنند و مرد در ...   \n",
              "3        3   بچه‌ها در بیرون از خانه و در کنار یک مرد با ل...   \n",
              "4        4   پسران جوان در فضای باز بازی می‌کنند و مرد در ...   \n",
              "...    ...                                                ...   \n",
              "3092     3            سگ سیاه و سفید روی حیاطی سبز نشسته است    \n",
              "3093     5              سگ سیاه و سفید در فضای بیرون می‌دوید    \n",
              "3094     4          یک زن و مرد در حال پریدن روی حاشیه هستند    \n",
              "3095     3   زنی با پیراهن آبی و پاشنه بلند در پیاده رو کن...   \n",
              "3096     4      سگی در حال پریدن از زیر سایه برخی درختان است    \n",
              "\n",
              "                                              sentence2  sbj1  sbj2  \\\n",
              "0      گروهی از پسران در حیاط بازی می‌کنند و مردی در...  گروه  گروه   \n",
              "1      گروهی از بچه‌ها در حیاط بازی می‌کنند و پیرمرد...  گروه  گروه   \n",
              "2      بچه‌ها در بیرون از خانه و در کنار یک مرد با ل...   پسر   بچه   \n",
              "3      گروهی از بچه‌ها در حیاط بازی می‌کنند و پیرمرد...   بچه  گروه   \n",
              "4      گروهی از بچه‌ها در حیاط بازی می‌کنند و پیرمرد...   پسر  گروه   \n",
              "...                                                 ...   ...   ...   \n",
              "3092                سگ سیاه و سفید در حیاطی سبز می‌دود     سگ    سگ   \n",
              "3093    یک سگ سیاه و سفید در فضای باز در حال دویدن است     سگ    سگ   \n",
              "3094                 یک زن و مرد روی حاشیه ایستاده‌اند     زن    زن   \n",
              "3095                 یک زن و مرد روی حاشیه ایستاده‌اند     زن    زن   \n",
              "3096                  سگی در حال ساییدن روی درختان است     سگ    سگ   \n",
              "\n",
              "     subject_label  \n",
              "0            other  \n",
              "1            other  \n",
              "2              N/A  \n",
              "3              N/A  \n",
              "4              N/A  \n",
              "...            ...  \n",
              "3092        heyvan  \n",
              "3093        heyvan  \n",
              "3094           zan  \n",
              "3095           zan  \n",
              "3096        heyvan  \n",
              "\n",
              "[3097 rows x 6 columns]"
            ],
            "text/html": [
              "\n",
              "  <div id=\"df-55f17a7a-e70f-4a4e-b2e2-eac9949dc94d\">\n",
              "    <div class=\"colab-df-container\">\n",
              "      <div>\n",
              "<style scoped>\n",
              "    .dataframe tbody tr th:only-of-type {\n",
              "        vertical-align: middle;\n",
              "    }\n",
              "\n",
              "    .dataframe tbody tr th {\n",
              "        vertical-align: top;\n",
              "    }\n",
              "\n",
              "    .dataframe thead th {\n",
              "        text-align: right;\n",
              "    }\n",
              "</style>\n",
              "<table border=\"1\" class=\"dataframe\">\n",
              "  <thead>\n",
              "    <tr style=\"text-align: right;\">\n",
              "      <th></th>\n",
              "      <th>score</th>\n",
              "      <th>sentence1</th>\n",
              "      <th>sentence2</th>\n",
              "      <th>sbj1</th>\n",
              "      <th>sbj2</th>\n",
              "      <th>subject_label</th>\n",
              "    </tr>\n",
              "  </thead>\n",
              "  <tbody>\n",
              "    <tr>\n",
              "      <th>0</th>\n",
              "      <td>4</td>\n",
              "      <td>گروهی از بچه‌ها در حیاط بازی می‌کنند و پیرمرد...</td>\n",
              "      <td>گروهی از پسران در حیاط بازی می‌کنند و مردی در...</td>\n",
              "      <td>گروه</td>\n",
              "      <td>گروه</td>\n",
              "      <td>other</td>\n",
              "    </tr>\n",
              "    <tr>\n",
              "      <th>1</th>\n",
              "      <td>3</td>\n",
              "      <td>گروهی از کودکان در خانه مشغول بازی هستند و هی...</td>\n",
              "      <td>گروهی از بچه‌ها در حیاط بازی می‌کنند و پیرمرد...</td>\n",
              "      <td>گروه</td>\n",
              "      <td>گروه</td>\n",
              "      <td>other</td>\n",
              "    </tr>\n",
              "    <tr>\n",
              "      <th>2</th>\n",
              "      <td>5</td>\n",
              "      <td>پسران جوان در فضای باز بازی می‌کنند و مرد در ...</td>\n",
              "      <td>بچه‌ها در بیرون از خانه و در کنار یک مرد با ل...</td>\n",
              "      <td>پسر</td>\n",
              "      <td>بچه</td>\n",
              "      <td>N/A</td>\n",
              "    </tr>\n",
              "    <tr>\n",
              "      <th>3</th>\n",
              "      <td>3</td>\n",
              "      <td>بچه‌ها در بیرون از خانه و در کنار یک مرد با ل...</td>\n",
              "      <td>گروهی از بچه‌ها در حیاط بازی می‌کنند و پیرمرد...</td>\n",
              "      <td>بچه</td>\n",
              "      <td>گروه</td>\n",
              "      <td>N/A</td>\n",
              "    </tr>\n",
              "    <tr>\n",
              "      <th>4</th>\n",
              "      <td>4</td>\n",
              "      <td>پسران جوان در فضای باز بازی می‌کنند و مرد در ...</td>\n",
              "      <td>گروهی از بچه‌ها در حیاط بازی می‌کنند و پیرمرد...</td>\n",
              "      <td>پسر</td>\n",
              "      <td>گروه</td>\n",
              "      <td>N/A</td>\n",
              "    </tr>\n",
              "    <tr>\n",
              "      <th>...</th>\n",
              "      <td>...</td>\n",
              "      <td>...</td>\n",
              "      <td>...</td>\n",
              "      <td>...</td>\n",
              "      <td>...</td>\n",
              "      <td>...</td>\n",
              "    </tr>\n",
              "    <tr>\n",
              "      <th>3092</th>\n",
              "      <td>3</td>\n",
              "      <td>سگ سیاه و سفید روی حیاطی سبز نشسته است</td>\n",
              "      <td>سگ سیاه و سفید در حیاطی سبز می‌دود</td>\n",
              "      <td>سگ</td>\n",
              "      <td>سگ</td>\n",
              "      <td>heyvan</td>\n",
              "    </tr>\n",
              "    <tr>\n",
              "      <th>3093</th>\n",
              "      <td>5</td>\n",
              "      <td>سگ سیاه و سفید در فضای بیرون می‌دوید</td>\n",
              "      <td>یک سگ سیاه و سفید در فضای باز در حال دویدن است</td>\n",
              "      <td>سگ</td>\n",
              "      <td>سگ</td>\n",
              "      <td>heyvan</td>\n",
              "    </tr>\n",
              "    <tr>\n",
              "      <th>3094</th>\n",
              "      <td>4</td>\n",
              "      <td>یک زن و مرد در حال پریدن روی حاشیه هستند</td>\n",
              "      <td>یک زن و مرد روی حاشیه ایستاده‌اند</td>\n",
              "      <td>زن</td>\n",
              "      <td>زن</td>\n",
              "      <td>zan</td>\n",
              "    </tr>\n",
              "    <tr>\n",
              "      <th>3095</th>\n",
              "      <td>3</td>\n",
              "      <td>زنی با پیراهن آبی و پاشنه بلند در پیاده رو کن...</td>\n",
              "      <td>یک زن و مرد روی حاشیه ایستاده‌اند</td>\n",
              "      <td>زن</td>\n",
              "      <td>زن</td>\n",
              "      <td>zan</td>\n",
              "    </tr>\n",
              "    <tr>\n",
              "      <th>3096</th>\n",
              "      <td>4</td>\n",
              "      <td>سگی در حال پریدن از زیر سایه برخی درختان است</td>\n",
              "      <td>سگی در حال ساییدن روی درختان است</td>\n",
              "      <td>سگ</td>\n",
              "      <td>سگ</td>\n",
              "      <td>heyvan</td>\n",
              "    </tr>\n",
              "  </tbody>\n",
              "</table>\n",
              "<p>3097 rows × 6 columns</p>\n",
              "</div>\n",
              "      <button class=\"colab-df-convert\" onclick=\"convertToInteractive('df-55f17a7a-e70f-4a4e-b2e2-eac9949dc94d')\"\n",
              "              title=\"Convert this dataframe to an interactive table.\"\n",
              "              style=\"display:none;\">\n",
              "        \n",
              "  <svg xmlns=\"http://www.w3.org/2000/svg\" height=\"24px\"viewBox=\"0 0 24 24\"\n",
              "       width=\"24px\">\n",
              "    <path d=\"M0 0h24v24H0V0z\" fill=\"none\"/>\n",
              "    <path d=\"M18.56 5.44l.94 2.06.94-2.06 2.06-.94-2.06-.94-.94-2.06-.94 2.06-2.06.94zm-11 1L8.5 8.5l.94-2.06 2.06-.94-2.06-.94L8.5 2.5l-.94 2.06-2.06.94zm10 10l.94 2.06.94-2.06 2.06-.94-2.06-.94-.94-2.06-.94 2.06-2.06.94z\"/><path d=\"M17.41 7.96l-1.37-1.37c-.4-.4-.92-.59-1.43-.59-.52 0-1.04.2-1.43.59L10.3 9.45l-7.72 7.72c-.78.78-.78 2.05 0 2.83L4 21.41c.39.39.9.59 1.41.59.51 0 1.02-.2 1.41-.59l7.78-7.78 2.81-2.81c.8-.78.8-2.07 0-2.86zM5.41 20L4 18.59l7.72-7.72 1.47 1.35L5.41 20z\"/>\n",
              "  </svg>\n",
              "      </button>\n",
              "      \n",
              "  <style>\n",
              "    .colab-df-container {\n",
              "      display:flex;\n",
              "      flex-wrap:wrap;\n",
              "      gap: 12px;\n",
              "    }\n",
              "\n",
              "    .colab-df-convert {\n",
              "      background-color: #E8F0FE;\n",
              "      border: none;\n",
              "      border-radius: 50%;\n",
              "      cursor: pointer;\n",
              "      display: none;\n",
              "      fill: #1967D2;\n",
              "      height: 32px;\n",
              "      padding: 0 0 0 0;\n",
              "      width: 32px;\n",
              "    }\n",
              "\n",
              "    .colab-df-convert:hover {\n",
              "      background-color: #E2EBFA;\n",
              "      box-shadow: 0px 1px 2px rgba(60, 64, 67, 0.3), 0px 1px 3px 1px rgba(60, 64, 67, 0.15);\n",
              "      fill: #174EA6;\n",
              "    }\n",
              "\n",
              "    [theme=dark] .colab-df-convert {\n",
              "      background-color: #3B4455;\n",
              "      fill: #D2E3FC;\n",
              "    }\n",
              "\n",
              "    [theme=dark] .colab-df-convert:hover {\n",
              "      background-color: #434B5C;\n",
              "      box-shadow: 0px 1px 3px 1px rgba(0, 0, 0, 0.15);\n",
              "      filter: drop-shadow(0px 1px 2px rgba(0, 0, 0, 0.3));\n",
              "      fill: #FFFFFF;\n",
              "    }\n",
              "  </style>\n",
              "\n",
              "      <script>\n",
              "        const buttonEl =\n",
              "          document.querySelector('#df-55f17a7a-e70f-4a4e-b2e2-eac9949dc94d button.colab-df-convert');\n",
              "        buttonEl.style.display =\n",
              "          google.colab.kernel.accessAllowed ? 'block' : 'none';\n",
              "\n",
              "        async function convertToInteractive(key) {\n",
              "          const element = document.querySelector('#df-55f17a7a-e70f-4a4e-b2e2-eac9949dc94d');\n",
              "          const dataTable =\n",
              "            await google.colab.kernel.invokeFunction('convertToInteractive',\n",
              "                                                     [key], {});\n",
              "          if (!dataTable) return;\n",
              "\n",
              "          const docLinkHtml = 'Like what you see? Visit the ' +\n",
              "            '<a target=\"_blank\" href=https://colab.research.google.com/notebooks/data_table.ipynb>data table notebook</a>'\n",
              "            + ' to learn more about interactive tables.';\n",
              "          element.innerHTML = '';\n",
              "          dataTable['output_type'] = 'display_data';\n",
              "          await google.colab.output.renderOutput(dataTable, element);\n",
              "          const docLink = document.createElement('div');\n",
              "          docLink.innerHTML = docLinkHtml;\n",
              "          element.appendChild(docLink);\n",
              "        }\n",
              "      </script>\n",
              "    </div>\n",
              "  </div>\n",
              "  "
            ]
          },
          "metadata": {},
          "execution_count": 77
        }
      ],
      "source": [
        "df_sbj"
      ]
    },
    {
      "cell_type": "markdown",
      "metadata": {
        "id": "WOIvywRZW_Fh"
      },
      "source": [
        "### Finding max length  of dataset sentences"
      ]
    },
    {
      "cell_type": "code",
      "execution_count": null,
      "metadata": {
        "colab": {
          "base_uri": "https://localhost:8080/"
        },
        "id": "2sP9bd5tm_dB",
        "outputId": "b9c01991-06fb-4c01-8a79-e5c995a8e1c0"
      },
      "outputs": [
        {
          "output_type": "stream",
          "name": "stdout",
          "text": [
            "The maximum number of words in dataset  : 27\n"
          ]
        }
      ],
      "source": [
        "\n",
        "print(\"The maximum number of words in dataset  : \" +  str(maxLength))"
      ]
    },
    {
      "cell_type": "markdown",
      "metadata": {
        "id": "RlxlYl6toVXv"
      },
      "source": [
        "add padding"
      ]
    },
    {
      "cell_type": "code",
      "execution_count": null,
      "metadata": {
        "colab": {
          "base_uri": "https://localhost:8080/"
        },
        "id": "lFb2gVXFeHy8",
        "outputId": "afe5620c-ec0c-40ef-ebe8-6c9d03781c63"
      },
      "outputs": [
        {
          "output_type": "stream",
          "name": "stdout",
          "text": [
            "shape1:  (3097, 27)\n",
            "shape2:  (3097, 27)\n",
            "[86, 10, 264, 2, 282, 121, 21, 23, 7, 24, 9, 2, 274, 304, 28, 99]\n",
            "[ 86  10 264   2 282 121  21  23   7  24   9   2 274 304  28  99   0   0\n",
            "   0   0   0   0   0   0   0   0   0]\n"
          ]
        }
      ],
      "source": [
        "X_pad_1 = pad_sequences(X1_toIndex, maxlen=maxLength, padding='post')\n",
        "X_pad_2 = pad_sequences(X2_toIndex, maxlen=maxLength, padding='post')\n",
        "\n",
        "print(\"shape1: \", X_pad_1.shape)\n",
        "print(\"shape2: \", X_pad_2.shape)\n",
        "\n",
        "print (X1_toIndex[1])\n",
        "print (X_pad_1[1])\n"
      ]
    },
    {
      "cell_type": "markdown",
      "metadata": {
        "id": "WsG3qHJDXPlG"
      },
      "source": [
        "### creating one-hot setes"
      ]
    },
    {
      "cell_type": "code",
      "execution_count": null,
      "metadata": {
        "colab": {
          "base_uri": "https://localhost:8080/"
        },
        "id": "M0m3taG0fWxk",
        "outputId": "39ba3d9e-1a9f-44e5-edc7-6b4849a13c6d"
      },
      "outputs": [
        {
          "output_type": "stream",
          "name": "stdout",
          "text": [
            "(3097, 27, 1000)\n",
            "(3097, 5)\n",
            "(3097, 6)\n"
          ]
        }
      ],
      "source": [
        "#onehot set\n",
        "\n",
        "X_OH1 = to_categorical(X_pad_1, num_classes=1000)\n",
        "X_OH2 = to_categorical(X_pad_2, num_classes=1000)\n",
        "X_OH = np.array(list(zip(X_OH1, X_OH2)))\n",
        "Y_score_OH = to_categorical(np.array(df_encoded[\"score\"].tolist()), num_classes=5)\n",
        "Y_sbj_OH = to_categorical(np.array(df_encoded[\"subject_label\"].tolist()), num_classes=6)\n",
        "Y_OH = np.concatenate((Y_score_OH, Y_sbj_OH), axis=1)\n",
        "print(X_OH1.shape)\n",
        "print(Y_score_OH.shape)\n",
        "print(Y_sbj_OH.shape)\n"
      ]
    },
    {
      "cell_type": "code",
      "source": [
        "X_OH"
      ],
      "metadata": {
        "colab": {
          "base_uri": "https://localhost:8080/"
        },
        "id": "FPPdwc59g62j",
        "outputId": "ac80df63-c17a-482a-d4bf-3b2b39596c45"
      },
      "execution_count": null,
      "outputs": [
        {
          "output_type": "execute_result",
          "data": {
            "text/plain": [
              "array([[[[0., 0., 0., ..., 0., 0., 0.],\n",
              "         [0., 0., 0., ..., 0., 0., 0.],\n",
              "         [0., 0., 0., ..., 0., 0., 0.],\n",
              "         ...,\n",
              "         [1., 0., 0., ..., 0., 0., 0.],\n",
              "         [1., 0., 0., ..., 0., 0., 0.],\n",
              "         [1., 0., 0., ..., 0., 0., 0.]],\n",
              "\n",
              "        [[0., 0., 0., ..., 0., 0., 0.],\n",
              "         [0., 0., 0., ..., 0., 0., 0.],\n",
              "         [0., 0., 0., ..., 0., 0., 0.],\n",
              "         ...,\n",
              "         [1., 0., 0., ..., 0., 0., 0.],\n",
              "         [1., 0., 0., ..., 0., 0., 0.],\n",
              "         [1., 0., 0., ..., 0., 0., 0.]]],\n",
              "\n",
              "\n",
              "       [[[0., 0., 0., ..., 0., 0., 0.],\n",
              "         [0., 0., 0., ..., 0., 0., 0.],\n",
              "         [0., 0., 0., ..., 0., 0., 0.],\n",
              "         ...,\n",
              "         [1., 0., 0., ..., 0., 0., 0.],\n",
              "         [1., 0., 0., ..., 0., 0., 0.],\n",
              "         [1., 0., 0., ..., 0., 0., 0.]],\n",
              "\n",
              "        [[0., 0., 0., ..., 0., 0., 0.],\n",
              "         [0., 0., 0., ..., 0., 0., 0.],\n",
              "         [0., 0., 0., ..., 0., 0., 0.],\n",
              "         ...,\n",
              "         [1., 0., 0., ..., 0., 0., 0.],\n",
              "         [1., 0., 0., ..., 0., 0., 0.],\n",
              "         [1., 0., 0., ..., 0., 0., 0.]]],\n",
              "\n",
              "\n",
              "       [[[0., 0., 0., ..., 0., 0., 0.],\n",
              "         [0., 0., 0., ..., 0., 0., 0.],\n",
              "         [0., 0., 1., ..., 0., 0., 0.],\n",
              "         ...,\n",
              "         [1., 0., 0., ..., 0., 0., 0.],\n",
              "         [1., 0., 0., ..., 0., 0., 0.],\n",
              "         [1., 0., 0., ..., 0., 0., 0.]],\n",
              "\n",
              "        [[0., 0., 0., ..., 0., 0., 0.],\n",
              "         [0., 0., 0., ..., 0., 0., 0.],\n",
              "         [0., 0., 1., ..., 0., 0., 0.],\n",
              "         ...,\n",
              "         [1., 0., 0., ..., 0., 0., 0.],\n",
              "         [1., 0., 0., ..., 0., 0., 0.],\n",
              "         [1., 0., 0., ..., 0., 0., 0.]]],\n",
              "\n",
              "\n",
              "       ...,\n",
              "\n",
              "\n",
              "       [[[0., 0., 0., ..., 0., 0., 0.],\n",
              "         [0., 0., 0., ..., 0., 0., 0.],\n",
              "         [0., 0., 0., ..., 0., 0., 0.],\n",
              "         ...,\n",
              "         [1., 0., 0., ..., 0., 0., 0.],\n",
              "         [1., 0., 0., ..., 0., 0., 0.],\n",
              "         [1., 0., 0., ..., 0., 0., 0.]],\n",
              "\n",
              "        [[0., 0., 0., ..., 0., 0., 0.],\n",
              "         [0., 0., 0., ..., 0., 0., 0.],\n",
              "         [0., 0., 0., ..., 0., 0., 0.],\n",
              "         ...,\n",
              "         [1., 0., 0., ..., 0., 0., 0.],\n",
              "         [1., 0., 0., ..., 0., 0., 0.],\n",
              "         [1., 0., 0., ..., 0., 0., 0.]]],\n",
              "\n",
              "\n",
              "       [[[0., 0., 0., ..., 0., 0., 0.],\n",
              "         [0., 0., 0., ..., 0., 0., 0.],\n",
              "         [0., 0., 0., ..., 0., 0., 0.],\n",
              "         ...,\n",
              "         [1., 0., 0., ..., 0., 0., 0.],\n",
              "         [1., 0., 0., ..., 0., 0., 0.],\n",
              "         [1., 0., 0., ..., 0., 0., 0.]],\n",
              "\n",
              "        [[0., 0., 0., ..., 0., 0., 0.],\n",
              "         [0., 0., 0., ..., 0., 0., 0.],\n",
              "         [0., 0., 0., ..., 0., 0., 0.],\n",
              "         ...,\n",
              "         [1., 0., 0., ..., 0., 0., 0.],\n",
              "         [1., 0., 0., ..., 0., 0., 0.],\n",
              "         [1., 0., 0., ..., 0., 0., 0.]]],\n",
              "\n",
              "\n",
              "       [[[0., 0., 0., ..., 0., 0., 0.],\n",
              "         [0., 0., 1., ..., 0., 0., 0.],\n",
              "         [0., 0., 0., ..., 0., 0., 0.],\n",
              "         ...,\n",
              "         [1., 0., 0., ..., 0., 0., 0.],\n",
              "         [1., 0., 0., ..., 0., 0., 0.],\n",
              "         [1., 0., 0., ..., 0., 0., 0.]],\n",
              "\n",
              "        [[0., 0., 0., ..., 0., 0., 0.],\n",
              "         [0., 0., 1., ..., 0., 0., 0.],\n",
              "         [0., 0., 0., ..., 0., 0., 0.],\n",
              "         ...,\n",
              "         [1., 0., 0., ..., 0., 0., 0.],\n",
              "         [1., 0., 0., ..., 0., 0., 0.],\n",
              "         [1., 0., 0., ..., 0., 0., 0.]]]], dtype=float32)"
            ]
          },
          "metadata": {},
          "execution_count": 82
        }
      ]
    },
    {
      "cell_type": "markdown",
      "metadata": {
        "id": "ZQcu3jbjsry_"
      },
      "source": [
        "### Splitting dataset"
      ]
    },
    {
      "cell_type": "code",
      "execution_count": null,
      "metadata": {
        "colab": {
          "base_uri": "https://localhost:8080/"
        },
        "id": "WVhjXOggWJ_V",
        "outputId": "ea7498dc-4128-4081-ef72-5714f82a5b5f"
      },
      "outputs": [
        {
          "output_type": "stream",
          "name": "stdout",
          "text": [
            "\n",
            "X1 train:  (2787, 27, 1000) \n",
            " **************************************************************************************************** \n",
            "X2 train:  (2787, 27, 1000) \n",
            " **************************************************************************************************** \n",
            "X1 test:  (310, 27, 1000) \n",
            " **************************************************************************************************** \n",
            "X2 test:  (310, 27, 1000) \n",
            " **************************************************************************************************** \n",
            "Y train:  (2787, 11) \n",
            " **************************************************************************************************** \n",
            "Y test:  (310, 11)\n"
          ]
        }
      ],
      "source": [
        "\n",
        "X_train, X_test, Y_train, Y_test = train_test_split(X_OH, Y_OH, test_size=0.1, random_state=seed)\n",
        "X1_train, X2_train = X_train[:, 0], X_train[:, 1]\n",
        "X1_test, X2_test = X_test[:, 0], X_test[:, 1]\n",
        "\n",
        "print(\"\\nX1 train: \", X1_train.shape,\"\\n\",\"*\"*100, \"\\nX2 train: \", X2_train.shape,\"\\n\",\"*\"*100, \"\\nX1 test: \", X1_test.shape,\"\\n\",\"*\"*100, \"\\nX2 test: \",\n",
        "      X2_test.shape,\"\\n\",\"*\"*100, \"\\nY train: \", Y_train.shape,\"\\n\",\"*\"*100, \"\\nY test: \", Y_test.shape)"
      ]
    },
    {
      "cell_type": "markdown",
      "metadata": {
        "id": "yFWQqIJxi4mz"
      },
      "source": [
        "# *Model*"
      ]
    },
    {
      "cell_type": "markdown",
      "metadata": {
        "id": "pk0j6ICpqRrx"
      },
      "source": [
        "### simple+relu\n"
      ]
    },
    {
      "cell_type": "code",
      "execution_count": null,
      "metadata": {
        "colab": {
          "base_uri": "https://localhost:8080/"
        },
        "id": "wspuUPoyc9mN",
        "outputId": "af46a6b4-ec6d-4d2d-f9cd-f6a66a78e2f6"
      },
      "outputs": [
        {
          "output_type": "stream",
          "name": "stdout",
          "text": [
            "Model: \"model\"\n",
            "__________________________________________________________________________________________________\n",
            " Layer (type)                   Output Shape         Param #     Connected to                     \n",
            "==================================================================================================\n",
            " input_1 (InputLayer)           [(None, 27, 1000)]   0           []                               \n",
            "                                                                                                  \n",
            " input_2 (InputLayer)           [(None, 27, 1000)]   0           []                               \n",
            "                                                                                                  \n",
            " simple_rnn (SimpleRNN)         (None, 128)          144512      ['input_1[0][0]']                \n",
            "                                                                                                  \n",
            " simple_rnn_1 (SimpleRNN)       (None, 128)          144512      ['input_2[0][0]']                \n",
            "                                                                                                  \n",
            " concatenate (Concatenate)      (None, 256)          0           ['simple_rnn[0][0]',             \n",
            "                                                                  'simple_rnn_1[0][0]']           \n",
            "                                                                                                  \n",
            " flatten (Flatten)              (None, 256)          0           ['concatenate[0][0]']            \n",
            "                                                                                                  \n",
            " dense (Dense)                  (None, 64)           16448       ['flatten[0][0]']                \n",
            "                                                                                                  \n",
            " dense_1 (Dense)                (None, 32)           2080        ['dense[0][0]']                  \n",
            "                                                                                                  \n",
            " output1 (Dense)                (None, 11)           363         ['dense_1[0][0]']                \n",
            "                                                                                                  \n",
            "==================================================================================================\n",
            "Total params: 307,915\n",
            "Trainable params: 307,915\n",
            "Non-trainable params: 0\n",
            "__________________________________________________________________________________________________\n",
            "None\n"
          ]
        }
      ],
      "source": [
        "tf.keras.backend.clear_session()\n",
        "\n",
        "\n",
        "def simpleRNN_model(input1, input2):\n",
        "    input1_ = layers.SimpleRNN(128, activation=\"relu\")(input1)\n",
        "    input2_ = layers.SimpleRNN(128, activation=\"relu\")(input2)\n",
        "\n",
        "    concat_out = layers.concatenate([input1_, input2_], axis=-1)\n",
        "    return concat_out\n",
        "\n",
        "\n",
        "input1 = layers.Input(shape=X1_train.shape[1:])\n",
        "input2 = layers.Input(shape=X2_train.shape[1:])\n",
        "layer_in = simpleRNN_model(input1, input2)\n",
        "\n",
        "flatten = layers.Flatten()(layer_in)\n",
        "dense1 = layers.Dense(64, activation='relu')(flatten)\n",
        "dense2 = layers.Dense(32, activation='relu')(dense1)\n",
        "output = layers.Dense(11, activation='sigmoid', name='output1')(dense2)\n",
        "\n",
        "model = Model(inputs=[input1, input2], outputs=output)\n",
        "print(model.summary())\n",
        "model.compile(loss=\"binary_crossentropy\", optimizer=\"adam\", metrics=[\"categorical_accuracy\"])\n"
      ]
    },
    {
      "cell_type": "code",
      "execution_count": null,
      "metadata": {
        "colab": {
          "base_uri": "https://localhost:8080/"
        },
        "id": "eimHWSAiI8ym",
        "outputId": "8da72963-5f34-4c88-a81e-5428ec921043"
      },
      "outputs": [
        {
          "output_type": "stream",
          "name": "stdout",
          "text": [
            "Epoch 1/10\n",
            "279/279 [==============================] - 15s 43ms/step - loss: 0.4333 - categorical_accuracy: 0.2293 - val_loss: 0.4194 - val_categorical_accuracy: 0.0000e+00\n",
            "Epoch 2/10\n",
            "279/279 [==============================] - 15s 53ms/step - loss: 0.4183 - categorical_accuracy: 0.1773 - val_loss: 0.4121 - val_categorical_accuracy: 0.3871\n",
            "Epoch 3/10\n",
            "279/279 [==============================] - 17s 61ms/step - loss: 0.4086 - categorical_accuracy: 0.2085 - val_loss: 0.3992 - val_categorical_accuracy: 0.4194\n",
            "Epoch 4/10\n",
            "279/279 [==============================] - 11s 39ms/step - loss: 0.3865 - categorical_accuracy: 0.1826 - val_loss: 0.3775 - val_categorical_accuracy: 0.1419\n",
            "Epoch 5/10\n",
            "279/279 [==============================] - 16s 59ms/step - loss: 0.3908 - categorical_accuracy: 0.1794 - val_loss: 0.3699 - val_categorical_accuracy: 0.1387\n",
            "Epoch 6/10\n",
            "279/279 [==============================] - 13s 45ms/step - loss: 0.3709 - categorical_accuracy: 0.1701 - val_loss: 0.4053 - val_categorical_accuracy: 0.2935\n",
            "Epoch 7/10\n",
            "279/279 [==============================] - 14s 48ms/step - loss: 0.3779 - categorical_accuracy: 0.2034 - val_loss: 0.3687 - val_categorical_accuracy: 0.0516\n",
            "Epoch 8/10\n",
            "279/279 [==============================] - 17s 60ms/step - loss: 0.3535 - categorical_accuracy: 0.1119 - val_loss: 0.3548 - val_categorical_accuracy: 0.1194\n",
            "Epoch 9/10\n",
            "279/279 [==============================] - 10s 37ms/step - loss: 0.3413 - categorical_accuracy: 0.1180 - val_loss: 0.3623 - val_categorical_accuracy: 0.1194\n",
            "Epoch 10/10\n",
            "279/279 [==============================] - 16s 58ms/step - loss: 0.3367 - categorical_accuracy: 0.1055 - val_loss: 0.3539 - val_categorical_accuracy: 0.1387\n"
          ]
        }
      ],
      "source": [
        "history = model.fit([X1_train, X2_train], Y_train, epochs=10, verbose=1, batch_size=10, validation_data=([X1_test, X2_test], Y_test))"
      ]
    },
    {
      "cell_type": "code",
      "execution_count": null,
      "metadata": {
        "colab": {
          "base_uri": "https://localhost:8080/"
        },
        "id": "_Zq-WXQZXJWy",
        "outputId": "2658a4ae-4b81-4046-907c-6cf94a869b65"
      },
      "outputs": [
        {
          "name": "stdout",
          "output_type": "stream",
          "text": [
            "dict_keys(['loss', 'categorical_accuracy', 'val_loss', 'val_categorical_accuracy'])\n"
          ]
        }
      ],
      "source": [
        "print(history.history.keys())"
      ]
    },
    {
      "cell_type": "code",
      "execution_count": null,
      "metadata": {
        "colab": {
          "base_uri": "https://localhost:8080/",
          "height": 465
        },
        "id": "LCtecEYNVrPk",
        "outputId": "65378006-e332-49d6-8cc2-640fe400cd5b"
      },
      "outputs": [
        {
          "output_type": "display_data",
          "data": {
            "text/plain": [
              "<Figure size 576x216 with 1 Axes>"
            ],
            "image/png": "[encoded data removed]"
          },
          "metadata": {
            "needs_background": "light"
          }
        },
        {
          "output_type": "display_data",
          "data": {
            "text/plain": [
              "<Figure size 576x216 with 1 Axes>"
            ],
            "image/png": "[encoded data removed]"
          },
          "metadata": {
            "needs_background": "light"
          }
        }
      ],
      "source": [
        "plt.figure(figsize=(8, 3))\n",
        "plt.plot(history.history['categorical_accuracy'])\n",
        "plt.plot(history.history['val_categorical_accuracy'])\n",
        "plt.title('model accuracy')\n",
        "plt.ylabel('accuracy')\n",
        "plt.xlabel('epoch')\n",
        "plt.legend(['train', 'validation'], loc='upper left')\n",
        "plt.show()\n",
        "\n",
        "\n",
        "plt.figure(figsize=(8, 3))\n",
        "plt.plot(history.history['loss'])\n",
        "plt.plot(history.history['val_loss'])\n",
        "plt.title('model loss')\n",
        "plt.ylabel('loss')\n",
        "plt.xlabel('epoch')\n",
        "plt.legend(['train', 'validation'], loc='upper left')\n",
        "plt.show()\n"
      ]
    },
    {
      "cell_type": "code",
      "execution_count": null,
      "metadata": {
        "colab": {
          "base_uri": "https://localhost:8080/",
          "height": 661
        },
        "id": "F2tUOgDls0xy",
        "outputId": "5505552b-64c3-448f-d467-f7e90e80ac85"
      },
      "outputs": [
        {
          "data": {
            "image/jpeg": "[encoded data removed]",
            "text/plain": [
              "<IPython.core.display.Image object>"
            ]
          },
          "execution_count": 39,
          "metadata": {},
          "output_type": "execute_result"
        }
      ],
      "source": [
        "tf.keras.utils.plot_model(model, \"simple.jpg\")"
      ]
    },
    {
      "cell_type": "markdown",
      "metadata": {
        "id": "xR3jJncldWWZ"
      },
      "source": [
        "### simple+tan\n"
      ]
    },
    {
      "cell_type": "code",
      "execution_count": null,
      "metadata": {
        "colab": {
          "base_uri": "https://localhost:8080/"
        },
        "id": "Q8aYtdwbcrZ9",
        "outputId": "338a657a-7636-4329-adde-1dba1a405a79"
      },
      "outputs": [
        {
          "output_type": "stream",
          "name": "stdout",
          "text": [
            "Model: \"model\"\n",
            "__________________________________________________________________________________________________\n",
            " Layer (type)                   Output Shape         Param #     Connected to                     \n",
            "==================================================================================================\n",
            " input_1 (InputLayer)           [(None, 27, 1000)]   0           []                               \n",
            "                                                                                                  \n",
            " input_2 (InputLayer)           [(None, 27, 1000)]   0           []                               \n",
            "                                                                                                  \n",
            " simple_rnn (SimpleRNN)         (None, 128)          144512      ['input_1[0][0]']                \n",
            "                                                                                                  \n",
            " simple_rnn_1 (SimpleRNN)       (None, 128)          144512      ['input_2[0][0]']                \n",
            "                                                                                                  \n",
            " concatenate (Concatenate)      (None, 256)          0           ['simple_rnn[0][0]',             \n",
            "                                                                  'simple_rnn_1[0][0]']           \n",
            "                                                                                                  \n",
            " flatten (Flatten)              (None, 256)          0           ['concatenate[0][0]']            \n",
            "                                                                                                  \n",
            " dense (Dense)                  (None, 114)          29298       ['flatten[0][0]']                \n",
            "                                                                                                  \n",
            " dense_1 (Dense)                (None, 64)           7360        ['dense[0][0]']                  \n",
            "                                                                                                  \n",
            " output1 (Dense)                (None, 11)           715         ['dense_1[0][0]']                \n",
            "                                                                                                  \n",
            "==================================================================================================\n",
            "Total params: 326,397\n",
            "Trainable params: 326,397\n",
            "Non-trainable params: 0\n",
            "__________________________________________________________________________________________________\n",
            "None\n"
          ]
        }
      ],
      "source": [
        "tf.keras.backend.clear_session()\n",
        "\n",
        "\n",
        "def simpleRNN_model(input1, input2):\n",
        "    input1_ = layers.SimpleRNN(128, activation=\"tanh\")(input1)\n",
        "    input2_ = layers.SimpleRNN(128, activation=\"tanh\")(input2)\n",
        "\n",
        "    concat_out = layers.concatenate([input1_, input2_], axis=-1)\n",
        "    return concat_out\n",
        "\n",
        "\n",
        "input1 = layers.Input(shape=X1_train.shape[1:])\n",
        "input2 = layers.Input(shape=X2_train.shape[1:])\n",
        "layer_in = simpleRNN_model(input1, input2)\n",
        "\n",
        "flatten = layers.Flatten()(layer_in)\n",
        "dense1 = layers.Dense(114, activation='relu')(flatten)\n",
        "dense2 = layers.Dense(64, activation='relu')(dense1)\n",
        "output = layers.Dense(11, activation='sigmoid', name='output1')(dense2)\n",
        "\n",
        "model = Model(inputs=[input1, input2], outputs=output)\n",
        "print(model.summary())\n",
        "model.compile(loss=\"binary_crossentropy\", optimizer=\"adam\", metrics=[\"categorical_accuracy\"])\n"
      ]
    },
    {
      "cell_type": "code",
      "execution_count": null,
      "metadata": {
        "colab": {
          "base_uri": "https://localhost:8080/"
        },
        "id": "NwLyT2AxdQXj",
        "outputId": "85a7f23d-fcc7-486d-e3ce-c290712b471c"
      },
      "outputs": [
        {
          "output_type": "stream",
          "name": "stdout",
          "text": [
            "Epoch 1/10\n",
            "279/279 [==============================] - 8s 22ms/step - loss: 0.4258 - categorical_accuracy: 0.1884 - val_loss: 0.4076 - val_categorical_accuracy: 0.3677\n",
            "Epoch 2/10\n",
            "279/279 [==============================] - 6s 21ms/step - loss: 0.3751 - categorical_accuracy: 0.0861 - val_loss: 0.3497 - val_categorical_accuracy: 0.0581\n",
            "Epoch 3/10\n",
            "279/279 [==============================] - 7s 24ms/step - loss: 0.3739 - categorical_accuracy: 0.0976 - val_loss: 0.3966 - val_categorical_accuracy: 0.2258\n",
            "Epoch 4/10\n",
            "279/279 [==============================] - 6s 22ms/step - loss: 0.4013 - categorical_accuracy: 0.1396 - val_loss: 0.4079 - val_categorical_accuracy: 0.0129\n",
            "Epoch 5/10\n",
            "279/279 [==============================] - 6s 22ms/step - loss: 0.4063 - categorical_accuracy: 0.1536 - val_loss: 0.4012 - val_categorical_accuracy: 0.4065\n",
            "Epoch 6/10\n",
            "279/279 [==============================] - 6s 22ms/step - loss: 0.4052 - categorical_accuracy: 0.2135 - val_loss: 0.3988 - val_categorical_accuracy: 0.4065\n",
            "Epoch 7/10\n",
            "279/279 [==============================] - 6s 22ms/step - loss: 0.4056 - categorical_accuracy: 0.1923 - val_loss: 0.3980 - val_categorical_accuracy: 0.0226\n",
            "Epoch 8/10\n",
            "279/279 [==============================] - 6s 22ms/step - loss: 0.4045 - categorical_accuracy: 0.2081 - val_loss: 0.3992 - val_categorical_accuracy: 0.0194\n",
            "Epoch 9/10\n",
            "279/279 [==============================] - 6s 22ms/step - loss: 0.4041 - categorical_accuracy: 0.1485 - val_loss: 0.3981 - val_categorical_accuracy: 0.1290\n",
            "Epoch 10/10\n",
            "279/279 [==============================] - 6s 22ms/step - loss: 0.4047 - categorical_accuracy: 0.1834 - val_loss: 0.3997 - val_categorical_accuracy: 0.2774\n"
          ]
        }
      ],
      "source": [
        "history = model.fit([X1_train, X2_train], Y_train, epochs=10, verbose=1, batch_size=10, validation_data=([X1_test, X2_test], Y_test))"
      ]
    },
    {
      "cell_type": "code",
      "execution_count": null,
      "metadata": {
        "colab": {
          "base_uri": "https://localhost:8080/",
          "height": 465
        },
        "id": "8elN2bDjj0_3",
        "outputId": "18ee7dbd-e062-4807-fdaf-74599fbce35c"
      },
      "outputs": [
        {
          "output_type": "display_data",
          "data": {
            "text/plain": [
              "<Figure size 576x216 with 1 Axes>"
            ],
            "image/png": "[encoded data removed]"
          },
          "metadata": {
            "needs_background": "light"
          }
        },
        {
          "output_type": "display_data",
          "data": {
            "text/plain": [
              "<Figure size 576x216 with 1 Axes>"
            ],
            "image/png": "[encoded data removed]"
          },
          "metadata": {
            "needs_background": "light"
          }
        }
      ],
      "source": [
        "plt.figure(figsize=(8, 3))\n",
        "plt.plot(history.history['categorical_accuracy'])\n",
        "plt.plot(history.history['val_categorical_accuracy'])\n",
        "plt.title('model accuracy')\n",
        "plt.ylabel('accuracy')\n",
        "plt.xlabel('epoch')\n",
        "plt.legend(['train', 'validation'], loc='upper left')\n",
        "plt.show()\n",
        "\n",
        "\n",
        "plt.figure(figsize=(8, 3))\n",
        "plt.plot(history.history['loss'])\n",
        "plt.plot(history.history['val_loss'])\n",
        "plt.title('model loss')\n",
        "plt.ylabel('loss')\n",
        "plt.xlabel('epoch')\n",
        "plt.legend(['train', 'validation'], loc='upper left')\n",
        "plt.show()\n"
      ]
    },
    {
      "cell_type": "markdown",
      "metadata": {
        "id": "psyJfuV3tpMz"
      },
      "source": [
        "### LSTM+relu\n"
      ]
    },
    {
      "cell_type": "code",
      "execution_count": null,
      "metadata": {
        "colab": {
          "base_uri": "https://localhost:8080/"
        },
        "id": "6bEFcDFfu6O0",
        "outputId": "e79fc861-e604-4f70-b310-db97b0e682b8"
      },
      "outputs": [
        {
          "output_type": "stream",
          "name": "stdout",
          "text": [
            "Model: \"model\"\n",
            "__________________________________________________________________________________________________\n",
            " Layer (type)                   Output Shape         Param #     Connected to                     \n",
            "==================================================================================================\n",
            " input_1 (InputLayer)           [(None, 27, 1000)]   0           []                               \n",
            "                                                                                                  \n",
            " input_2 (InputLayer)           [(None, 27, 1000)]   0           []                               \n",
            "                                                                                                  \n",
            " lstm (LSTM)                    (None, 128)          578048      ['input_1[0][0]']                \n",
            "                                                                                                  \n",
            " lstm_1 (LSTM)                  (None, 128)          578048      ['input_2[0][0]']                \n",
            "                                                                                                  \n",
            " concatenate (Concatenate)      (None, 256)          0           ['lstm[0][0]',                   \n",
            "                                                                  'lstm_1[0][0]']                 \n",
            "                                                                                                  \n",
            " flatten (Flatten)              (None, 256)          0           ['concatenate[0][0]']            \n",
            "                                                                                                  \n",
            " dense (Dense)                  (None, 114)          29298       ['flatten[0][0]']                \n",
            "                                                                                                  \n",
            " dense_1 (Dense)                (None, 64)           7360        ['dense[0][0]']                  \n",
            "                                                                                                  \n",
            " output1 (Dense)                (None, 11)           715         ['dense_1[0][0]']                \n",
            "                                                                                                  \n",
            "==================================================================================================\n",
            "Total params: 1,193,469\n",
            "Trainable params: 1,193,469\n",
            "Non-trainable params: 0\n",
            "__________________________________________________________________________________________________\n",
            "None\n"
          ]
        }
      ],
      "source": [
        "tf.keras.backend.clear_session()\n",
        "\n",
        "optmzr = tf.keras.optimizers.Adam(learning_rate=0.001)\n",
        "\n",
        "def LSTM_Model(input1, input2):\n",
        "    input1_ = layers.LSTM(128, activation=\"relu\")(input1)\n",
        "    input2_ = layers.LSTM(128, activation=\"relu\")(input2)\n",
        "\n",
        "    concat_out = layers.concatenate([input1_, input2_], axis=-1)\n",
        "    return concat_out\n",
        "\n",
        "\n",
        "input1 = layers.Input(shape=X1_train.shape[1:])\n",
        "input2 = layers.Input(shape=X2_train.shape[1:])\n",
        "layer_in = LSTM_Model(input1, input2)\n",
        "\n",
        "flatten = layers.Flatten()(layer_in)\n",
        "dense1 = layers.Dense(114, activation='relu')(flatten)\n",
        "dense2 = layers.Dense(64, activation='relu')(dense1)\n",
        "output = layers.Dense(11, activation='sigmoid', name='output1')(dense2)\n",
        "\n",
        "model = Model(inputs=[input1, input2], outputs=output)\n",
        "print(model.summary())\n",
        "model.compile(loss=\"binary_crossentropy\", optimizer=optmzr, metrics=[\"categorical_accuracy\"])\n"
      ]
    },
    {
      "cell_type": "code",
      "execution_count": null,
      "metadata": {
        "colab": {
          "base_uri": "https://localhost:8080/"
        },
        "id": "TaeTNSSwknvu",
        "outputId": "857827da-ee1f-4f85-dc1f-3af19f327395"
      },
      "outputs": [
        {
          "output_type": "stream",
          "name": "stdout",
          "text": [
            "Epoch 1/10\n",
            "186/186 [==============================] - 19s 94ms/step - loss: 0.4508 - categorical_accuracy: 0.2042 - val_loss: 0.4152 - val_categorical_accuracy: 0.0000e+00\n",
            "Epoch 2/10\n",
            "186/186 [==============================] - 20s 106ms/step - loss: 0.4141 - categorical_accuracy: 0.1773 - val_loss: 0.4050 - val_categorical_accuracy: 0.0806\n",
            "Epoch 3/10\n",
            "186/186 [==============================] - 19s 104ms/step - loss: 0.3655 - categorical_accuracy: 0.1216 - val_loss: 0.3548 - val_categorical_accuracy: 0.0742\n",
            "Epoch 4/10\n",
            "186/186 [==============================] - 19s 103ms/step - loss: 0.3283 - categorical_accuracy: 0.0804 - val_loss: 0.3252 - val_categorical_accuracy: 0.0645\n",
            "Epoch 5/10\n",
            "186/186 [==============================] - 19s 100ms/step - loss: 0.2941 - categorical_accuracy: 0.0517 - val_loss: 0.3323 - val_categorical_accuracy: 0.0516\n",
            "Epoch 6/10\n",
            "186/186 [==============================] - 19s 101ms/step - loss: 0.2721 - categorical_accuracy: 0.0359 - val_loss: 0.3218 - val_categorical_accuracy: 0.0226\n",
            "Epoch 7/10\n",
            "186/186 [==============================] - 19s 101ms/step - loss: 0.2580 - categorical_accuracy: 0.0276 - val_loss: 0.3280 - val_categorical_accuracy: 0.0065\n",
            "Epoch 8/10\n",
            "186/186 [==============================] - 19s 102ms/step - loss: 0.2412 - categorical_accuracy: 0.0097 - val_loss: 0.3106 - val_categorical_accuracy: 0.0065\n",
            "Epoch 9/10\n",
            "186/186 [==============================] - 19s 101ms/step - loss: 0.2284 - categorical_accuracy: 0.0057 - val_loss: 0.3348 - val_categorical_accuracy: 0.0032\n",
            "Epoch 10/10\n",
            "186/186 [==============================] - 19s 102ms/step - loss: 0.2273 - categorical_accuracy: 0.0075 - val_loss: 0.3101 - val_categorical_accuracy: 0.0194\n"
          ]
        }
      ],
      "source": [
        "history = model.fit([X1_train, X2_train], Y_train, epochs=10, verbose=1, batch_size=15, validation_data=([X1_test, X2_test], Y_test))"
      ]
    },
    {
      "cell_type": "code",
      "execution_count": null,
      "metadata": {
        "colab": {
          "base_uri": "https://localhost:8080/",
          "height": 661
        },
        "id": "Jf2GlUxUwmfO",
        "outputId": "85da63f4-5c13-47c4-d8c3-f37388a80049"
      },
      "outputs": [
        {
          "data": {
            "image/png": "[encoded data removed]",
            "text/plain": [
              "<IPython.core.display.Image object>"
            ]
          },
          "execution_count": 45,
          "metadata": {},
          "output_type": "execute_result"
        }
      ],
      "source": [
        "tf.keras.utils.plot_model(model, \"LSTM.png\")"
      ]
    },
    {
      "cell_type": "code",
      "execution_count": null,
      "metadata": {
        "colab": {
          "base_uri": "https://localhost:8080/",
          "height": 465
        },
        "id": "hechgvSjsN7E",
        "outputId": "5407218c-6768-42c2-8be1-de344d2d6d2b"
      },
      "outputs": [
        {
          "output_type": "display_data",
          "data": {
            "text/plain": [
              "<Figure size 576x216 with 1 Axes>"
            ],
            "image/png": "[encoded data removed]"
          },
          "metadata": {
            "needs_background": "light"
          }
        },
        {
          "output_type": "display_data",
          "data": {
            "text/plain": [
              "<Figure size 576x216 with 1 Axes>"
            ],
            "image/png": "[encoded data removed]"
          },
          "metadata": {
            "needs_background": "light"
          }
        }
      ],
      "source": [
        "plt.figure(figsize=(8, 3))\n",
        "plt.plot(history.history['categorical_accuracy'])\n",
        "plt.plot(history.history['val_categorical_accuracy'])\n",
        "plt.title('model accuracy')\n",
        "plt.ylabel('accuracy')\n",
        "plt.xlabel('epoch')\n",
        "plt.legend(['train', 'validation'], loc='upper left')\n",
        "plt.show()\n",
        "\n",
        "\n",
        "plt.figure(figsize=(8, 3))\n",
        "plt.plot(history.history['loss'])\n",
        "plt.plot(history.history['val_loss'])\n",
        "plt.title('model loss')\n",
        "plt.ylabel('loss')\n",
        "plt.xlabel('epoch')\n",
        "plt.legend(['train', 'validation'], loc='upper left')\n",
        "plt.show()\n"
      ]
    },
    {
      "cell_type": "markdown",
      "metadata": {
        "id": "YSfVB-V9tzgj"
      },
      "source": [
        "## GRU+relu\n"
      ]
    },
    {
      "cell_type": "code",
      "execution_count": null,
      "metadata": {
        "colab": {
          "base_uri": "https://localhost:8080/"
        },
        "id": "DZPVzA3qrRvp",
        "outputId": "36cec5d6-a6f4-4b0a-92b7-782ed193a666"
      },
      "outputs": [
        {
          "output_type": "stream",
          "name": "stdout",
          "text": [
            "Model: \"model\"\n",
            "__________________________________________________________________________________________________\n",
            " Layer (type)                   Output Shape         Param #     Connected to                     \n",
            "==================================================================================================\n",
            " input_1 (InputLayer)           [(None, 27, 1000)]   0           []                               \n",
            "                                                                                                  \n",
            " input_2 (InputLayer)           [(None, 27, 1000)]   0           []                               \n",
            "                                                                                                  \n",
            " gru (GRU)                      (None, 128)          433920      ['input_1[0][0]']                \n",
            "                                                                                                  \n",
            " gru_1 (GRU)                    (None, 128)          433920      ['input_2[0][0]']                \n",
            "                                                                                                  \n",
            " concatenate (Concatenate)      (None, 256)          0           ['gru[0][0]',                    \n",
            "                                                                  'gru_1[0][0]']                  \n",
            "                                                                                                  \n",
            " flatten (Flatten)              (None, 256)          0           ['concatenate[0][0]']            \n",
            "                                                                                                  \n",
            " dense (Dense)                  (None, 64)           16448       ['flatten[0][0]']                \n",
            "                                                                                                  \n",
            " dense_1 (Dense)                (None, 32)           2080        ['dense[0][0]']                  \n",
            "                                                                                                  \n",
            " output1 (Dense)                (None, 11)           363         ['dense_1[0][0]']                \n",
            "                                                                                                  \n",
            "==================================================================================================\n",
            "Total params: 886,731\n",
            "Trainable params: 886,731\n",
            "Non-trainable params: 0\n",
            "__________________________________________________________________________________________________\n",
            "None\n"
          ]
        }
      ],
      "source": [
        "tf.keras.backend.clear_session()\n",
        "\n",
        "optmzr = tf.keras.optimizers.Adam(learning_rate=0.0005)\n",
        "\n",
        "\n",
        "def GRU_model(input1, input2):\n",
        "    input1_ = layers.GRU(128)(input1)\n",
        "    input2_ = layers.GRU(128)(input2)\n",
        "   \n",
        "\n",
        "    concat_out = layers.concatenate([input1_, input2_], axis=-1)\n",
        "    return concat_out\n",
        "\n",
        "\n",
        "input1 = layers.Input(shape=X1_train.shape[1:])\n",
        "input2 = layers.Input(shape=X2_train.shape[1:])\n",
        "layer_in = GRU_model(input1, input2)\n",
        "\n",
        "flatten = layers.Flatten()(layer_in)\n",
        "dense1 = layers.Dense(64, activation='relu')(flatten)\n",
        "dense2 = layers.Dense(32, activation='relu')(dense1)\n",
        "output = layers.Dense(11, activation='sigmoid', name='output1')(dense2)\n",
        "\n",
        "model = Model(inputs=[input1, input2], outputs=output)\n",
        "print(model.summary())\n",
        "model.compile(loss=\"binary_crossentropy\", optimizer=optmzr, metrics=[\"categorical_accuracy\"])\n"
      ]
    },
    {
      "cell_type": "code",
      "execution_count": null,
      "metadata": {
        "colab": {
          "base_uri": "https://localhost:8080/"
        },
        "id": "NryYtA-Hso5K",
        "outputId": "6eadf9b9-8042-4ec5-f10b-44c3d48fc3a6"
      },
      "outputs": [
        {
          "output_type": "stream",
          "name": "stdout",
          "text": [
            "Epoch 1/10\n",
            "279/279 [==============================] - 23s 73ms/step - loss: 0.4501 - categorical_accuracy: 0.1615 - val_loss: 0.4152 - val_categorical_accuracy: 0.0032\n",
            "Epoch 2/10\n",
            "279/279 [==============================] - 20s 71ms/step - loss: 0.4185 - categorical_accuracy: 0.2519 - val_loss: 0.4151 - val_categorical_accuracy: 0.4226\n",
            "Epoch 3/10\n",
            "279/279 [==============================] - 20s 72ms/step - loss: 0.4164 - categorical_accuracy: 0.2210 - val_loss: 0.4105 - val_categorical_accuracy: 0.1452\n",
            "Epoch 4/10\n",
            "279/279 [==============================] - 20s 72ms/step - loss: 0.3948 - categorical_accuracy: 0.1909 - val_loss: 0.3693 - val_categorical_accuracy: 0.1516\n",
            "Epoch 5/10\n",
            "279/279 [==============================] - 20s 72ms/step - loss: 0.3494 - categorical_accuracy: 0.0628 - val_loss: 0.3522 - val_categorical_accuracy: 0.1452\n",
            "Epoch 6/10\n",
            "279/279 [==============================] - 20s 71ms/step - loss: 0.3303 - categorical_accuracy: 0.0739 - val_loss: 0.3423 - val_categorical_accuracy: 0.0419\n",
            "Epoch 7/10\n",
            "279/279 [==============================] - 21s 74ms/step - loss: 0.3201 - categorical_accuracy: 0.0793 - val_loss: 0.3426 - val_categorical_accuracy: 0.0355\n",
            "Epoch 8/10\n",
            "279/279 [==============================] - 21s 76ms/step - loss: 0.3122 - categorical_accuracy: 0.0642 - val_loss: 0.3352 - val_categorical_accuracy: 0.0290\n",
            "Epoch 9/10\n",
            "279/279 [==============================] - 20s 73ms/step - loss: 0.3059 - categorical_accuracy: 0.0495 - val_loss: 0.3332 - val_categorical_accuracy: 0.0452\n",
            "Epoch 10/10\n",
            "279/279 [==============================] - 20s 72ms/step - loss: 0.2910 - categorical_accuracy: 0.0362 - val_loss: 0.3067 - val_categorical_accuracy: 0.0226\n"
          ]
        }
      ],
      "source": [
        "history = model.fit([X1_train, X2_train], Y_train, epochs=10, verbose=1, batch_size=10, validation_data=([X1_test, X2_test], Y_test))"
      ]
    },
    {
      "cell_type": "code",
      "execution_count": null,
      "metadata": {
        "colab": {
          "base_uri": "https://localhost:8080/",
          "height": 661
        },
        "id": "Xr6tGNGEsw7F",
        "outputId": "022858d3-a454-490a-f3b5-b078b774aa5c"
      },
      "outputs": [
        {
          "data": {
            "image/png": "[encoded data removed]",
            "text/plain": [
              "<IPython.core.display.Image object>"
            ]
          },
          "execution_count": 189,
          "metadata": {},
          "output_type": "execute_result"
        }
      ],
      "source": [
        "tf.keras.utils.plot_model(model, \"GRU.png\")"
      ]
    },
    {
      "cell_type": "code",
      "execution_count": null,
      "metadata": {
        "colab": {
          "base_uri": "https://localhost:8080/",
          "height": 465
        },
        "id": "dt04eurLsys-",
        "outputId": "8b5a7769-a471-45ee-d5fc-476239282f49"
      },
      "outputs": [
        {
          "data": {
            "image/png": "[encoded data removed]",
            "text/plain": [
              "<Figure size 576x216 with 1 Axes>"
            ]
          },
          "metadata": {},
          "output_type": "display_data"
        },
        {
          "data": {
            "image/png": "[encoded data removed]",
            "text/plain": [
              "<Figure size 576x216 with 1 Axes>"
            ]
          },
          "metadata": {},
          "output_type": "display_data"
        }
      ],
      "source": [
        "plt.figure(figsize=(8, 3))\n",
        "plt.plot(history.history['categorical_accuracy'])\n",
        "plt.plot(history.history['val_categorical_accuracy'])\n",
        "plt.title('model accuracy')\n",
        "plt.ylabel('accuracy')\n",
        "plt.xlabel('epoch')\n",
        "plt.legend(['train', 'validation'], loc='upper left')\n",
        "plt.show()\n",
        "\n",
        "\n",
        "plt.figure(figsize=(8, 3))\n",
        "plt.plot(history.history['loss'])\n",
        "plt.plot(history.history['val_loss'])\n",
        "plt.title('model loss')\n",
        "plt.ylabel('loss')\n",
        "plt.xlabel('epoch')\n",
        "plt.legend(['train', 'validation'], loc='upper left')\n",
        "plt.show()\n"
      ]
    },
    {
      "cell_type": "markdown",
      "source": [
        "GRU + Relu  with diffrent learning rate"
      ],
      "metadata": {
        "id": "GSEvMQZAQI_4"
      }
    },
    {
      "cell_type": "code",
      "source": [
        "tf.keras.backend.clear_session()\n",
        "\n",
        "optmzr = tf.keras.optimizers.Adam(learning_rate=0.0005)\n",
        "\n",
        "\n",
        "def GRU_model(input1, input2):\n",
        "    input1_ = layers.GRU(256)(input1)\n",
        "    input2_ = layers.GRU(256)(input2)\n",
        "   \n",
        "\n",
        "    concat_out = layers.concatenate([input1_, input2_], axis=-1)\n",
        "    return concat_out\n",
        "\n",
        "\n",
        "input1 = layers.Input(shape=X1_train.shape[1:])\n",
        "input2 = layers.Input(shape=X2_train.shape[1:])\n",
        "layer_in = GRU_model(input1, input2)\n",
        "\n",
        "flatten = layers.Flatten()(layer_in)\n",
        "dense1 = layers.Dense(128, activation='relu')(flatten)\n",
        "dense2 = layers.Dense(64, activation='relu')(dense1)\n",
        "dense3 = layers.Dense(32, activation='relu')(flatten)\n",
        "output = layers.Dense(11, activation='sigmoid', name='output1')(dense3)\n",
        "\n",
        "model = Model(inputs=[input1, input2], outputs=output)\n",
        "print(model.summary())\n",
        "model.compile(loss=\"binary_crossentropy\", optimizer=optmzr, metrics=[\"categorical_accuracy\"])\n"
      ],
      "metadata": {
        "colab": {
          "base_uri": "https://localhost:8080/"
        },
        "id": "oabcK6_rr_l5",
        "outputId": "5f294079-35c5-4bc4-ebcd-2937dc3236ea"
      },
      "execution_count": null,
      "outputs": [
        {
          "output_type": "stream",
          "name": "stdout",
          "text": [
            "Model: \"model\"\n",
            "__________________________________________________________________________________________________\n",
            " Layer (type)                   Output Shape         Param #     Connected to                     \n",
            "==================================================================================================\n",
            " input_1 (InputLayer)           [(None, 27, 1000)]   0           []                               \n",
            "                                                                                                  \n",
            " input_2 (InputLayer)           [(None, 27, 1000)]   0           []                               \n",
            "                                                                                                  \n",
            " gru (GRU)                      (None, 256)          966144      ['input_1[0][0]']                \n",
            "                                                                                                  \n",
            " gru_1 (GRU)                    (None, 256)          966144      ['input_2[0][0]']                \n",
            "                                                                                                  \n",
            " concatenate (Concatenate)      (None, 512)          0           ['gru[0][0]',                    \n",
            "                                                                  'gru_1[0][0]']                  \n",
            "                                                                                                  \n",
            " flatten (Flatten)              (None, 512)          0           ['concatenate[0][0]']            \n",
            "                                                                                                  \n",
            " dense_2 (Dense)                (None, 32)           16416       ['flatten[0][0]']                \n",
            "                                                                                                  \n",
            " output1 (Dense)                (None, 11)           363         ['dense_2[0][0]']                \n",
            "                                                                                                  \n",
            "==================================================================================================\n",
            "Total params: 1,949,067\n",
            "Trainable params: 1,949,067\n",
            "Non-trainable params: 0\n",
            "__________________________________________________________________________________________________\n",
            "None\n"
          ]
        }
      ]
    },
    {
      "cell_type": "code",
      "source": [
        "history = model.fit([X1_train, X2_train], Y_train, epochs=10, verbose=1, batch_size=10, validation_data=([X1_test, X2_test], Y_test))"
      ],
      "metadata": {
        "colab": {
          "base_uri": "https://localhost:8080/"
        },
        "id": "pOC-PJj7sKKH",
        "outputId": "51ba5e39-7ba3-456d-9e49-f9b873e69607"
      },
      "execution_count": null,
      "outputs": [
        {
          "output_type": "stream",
          "name": "stdout",
          "text": [
            "Epoch 1/10\n",
            "279/279 [==============================] - 48s 161ms/step - loss: 0.4377 - categorical_accuracy: 0.2332 - val_loss: 0.4173 - val_categorical_accuracy: 0.0000e+00\n",
            "Epoch 2/10\n",
            "279/279 [==============================] - 43s 155ms/step - loss: 0.4182 - categorical_accuracy: 0.2009 - val_loss: 0.4101 - val_categorical_accuracy: 0.4226\n",
            "Epoch 3/10\n",
            "279/279 [==============================] - 42s 150ms/step - loss: 0.3637 - categorical_accuracy: 0.1102 - val_loss: 0.3424 - val_categorical_accuracy: 0.0226\n",
            "Epoch 4/10\n",
            "279/279 [==============================] - 41s 148ms/step - loss: 0.3323 - categorical_accuracy: 0.0344 - val_loss: 0.3318 - val_categorical_accuracy: 0.0032\n",
            "Epoch 5/10\n",
            "279/279 [==============================] - 43s 154ms/step - loss: 0.3217 - categorical_accuracy: 0.0305 - val_loss: 0.3300 - val_categorical_accuracy: 0.1000\n",
            "Epoch 6/10\n",
            "279/279 [==============================] - 44s 158ms/step - loss: 0.3148 - categorical_accuracy: 0.0409 - val_loss: 0.3282 - val_categorical_accuracy: 0.0000e+00\n",
            "Epoch 7/10\n",
            "279/279 [==============================] - 42s 150ms/step - loss: 0.3104 - categorical_accuracy: 0.0183 - val_loss: 0.3284 - val_categorical_accuracy: 0.0065\n",
            "Epoch 8/10\n",
            "279/279 [==============================] - 41s 147ms/step - loss: 0.3044 - categorical_accuracy: 0.0161 - val_loss: 0.3208 - val_categorical_accuracy: 0.0258\n",
            "Epoch 9/10\n",
            "279/279 [==============================] - 42s 150ms/step - loss: 0.2855 - categorical_accuracy: 0.0237 - val_loss: 0.2984 - val_categorical_accuracy: 0.0355\n",
            "Epoch 10/10\n",
            "279/279 [==============================] - 43s 153ms/step - loss: 0.2679 - categorical_accuracy: 0.0190 - val_loss: 0.3014 - val_categorical_accuracy: 0.0161\n"
          ]
        }
      ]
    },
    {
      "cell_type": "code",
      "source": [
        "plt.figure(figsize=(8, 3))\n",
        "plt.plot(history.history['categorical_accuracy'])\n",
        "plt.plot(history.history['val_categorical_accuracy'])\n",
        "plt.title('model accuracy')\n",
        "plt.ylabel('accuracy')\n",
        "plt.xlabel('epoch')\n",
        "plt.legend(['train', 'validation'], loc='upper left')\n",
        "plt.show()\n",
        "\n",
        "\n",
        "plt.figure(figsize=(8, 3))\n",
        "plt.plot(history.history['loss'])\n",
        "plt.plot(history.history['val_loss'])\n",
        "plt.title('model loss')\n",
        "plt.ylabel('loss')\n",
        "plt.xlabel('epoch')\n",
        "plt.legend(['train', 'validation'], loc='upper left')\n",
        "plt.show()\n"
      ],
      "metadata": {
        "colab": {
          "base_uri": "https://localhost:8080/",
          "height": 465
        },
        "id": "_NbfdK3XvVUV",
        "outputId": "1e3f8acf-a95a-4cc0-b6ff-aa00a1d5eeb4"
      },
      "execution_count": null,
      "outputs": [
        {
          "output_type": "display_data",
          "data": {
            "text/plain": [
              "<Figure size 576x216 with 1 Axes>"
            ],
            "image/png": "[encoded data removed]"
          },
          "metadata": {
            "needs_background": "light"
          }
        },
        {
          "output_type": "display_data",
          "data": {
            "text/plain": [
              "<Figure size 576x216 with 1 Axes>"
            ],
            "image/png": "[encoded data removed]"
          },
          "metadata": {
            "needs_background": "light"
          }
        }
      ]
    }
  ],
  "metadata": {
    "colab": {
      "collapsed_sections": [
        "ePV1Fav1xIfS"
      ],
      "name": "Multi-label Text Classification",
      "provenance": []
    },
    "kernelspec": {
      "display_name": "Python 3",
      "name": "python3"
    },
    "language_info": {
      "name": "python"
    }
  },
  "nbformat": 4,
  "nbformat_minor": 0
}